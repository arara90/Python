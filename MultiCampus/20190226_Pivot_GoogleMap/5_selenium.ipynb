{
 "cells": [
  {
   "cell_type": "code",
   "execution_count": 3,
   "metadata": {},
   "outputs": [],
   "source": [
    "#!pip install selenium\n",
    "#chromedriver.storage.googleapis.com"
   ]
  },
  {
   "cell_type": "code",
   "execution_count": 8,
   "metadata": {},
   "outputs": [],
   "source": [
    "from selenium import webdriver"
   ]
  },
  {
   "cell_type": "code",
   "execution_count": 14,
   "metadata": {},
   "outputs": [],
   "source": [
    "driver = webdriver.Chrome(\"chromedriver.exe\")\n",
    "driver.get(\"http://www.naver.com\")\n",
    "driver.find_element_by_xpath('//*[@id=\"account\"]/div/a/i').click()\n",
    "#//*[@id=\"account\"]/div/a/i\n",
    "userId = driver.find_element_by_xpath('//*[@id=\"id\"]')\n",
    "userPw = driver.find_element_by_xpath('//*[@id=\"pw\"]')\n",
    "#//*[@id=\"id\"]\n",
    "userId.clear()\n",
    "userId.send_keys(\"flour35\")\n",
    "userPw.clear()\n",
    "userPw.send_keys(\"judy22\")\n",
    "\n",
    "driver.find_element_by_xpath('//*[@id=\"frmNIDLogin\"]/fieldset/input').click()\n"
   ]
  }
 ],
 "metadata": {
  "kernelspec": {
   "display_name": "Python 3",
   "language": "python",
   "name": "python3"
  },
  "language_info": {
   "codemirror_mode": {
    "name": "ipython",
    "version": 3
   },
   "file_extension": ".py",
   "mimetype": "text/x-python",
   "name": "python",
   "nbconvert_exporter": "python",
   "pygments_lexer": "ipython3",
   "version": "3.7.1"
  }
 },
 "nbformat": 4,
 "nbformat_minor": 2
}
