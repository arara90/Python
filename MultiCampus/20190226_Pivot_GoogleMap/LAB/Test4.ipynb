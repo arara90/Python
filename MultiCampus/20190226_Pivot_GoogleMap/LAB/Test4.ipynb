{
 "cells": [
  {
   "cell_type": "code",
   "execution_count": 16,
   "metadata": {},
   "outputs": [],
   "source": [
    "# pip install selenium\n",
    "from selenium import webdriver\n",
    "driver = webdriver.Chrome(\"chromedriver.exe\")\n",
    "driver.get(\"http://www.naver.com\")\n",
    "driver.find_element_by_xpath('//*[@id=\"account\"]/div/a/i').click()\n",
    "userId = driver.find_element_by_xpath('//*[@id=\"id\"]')\n",
    "userId.clear()\n",
    "userId.send_keys(\"dennis1945\")\n",
    "\n",
    "userPwd = driver.find_element_by_xpath('//*[@id=\"pw\"]')\n",
    "userPwd.clear()\n",
    "userPwd.send_keys(\"1234\")\n",
    "driver.find_element_by_xpath('//*[@id=\"frmNIDLogin\"]/fieldset/input').click()\n",
    "\n",
    "\n"
   ]
  },
  {
   "cell_type": "code",
   "execution_count": 10,
   "metadata": {},
   "outputs": [],
   "source": []
  },
  {
   "cell_type": "code",
   "execution_count": null,
   "metadata": {},
   "outputs": [],
   "source": []
  },
  {
   "cell_type": "code",
   "execution_count": null,
   "metadata": {},
   "outputs": [],
   "source": []
  }
 ],
 "metadata": {
  "kernelspec": {
   "display_name": "Python 3",
   "language": "python",
   "name": "python3"
  },
  "language_info": {
   "codemirror_mode": {
    "name": "ipython",
    "version": 3
   },
   "file_extension": ".py",
   "mimetype": "text/x-python",
   "name": "python",
   "nbconvert_exporter": "python",
   "pygments_lexer": "ipython3",
   "version": "3.7.1"
  }
 },
 "nbformat": 4,
 "nbformat_minor": 2
}
