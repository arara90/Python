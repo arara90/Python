{
 "cells": [
  {
   "cell_type": "code",
   "execution_count": 23,
   "metadata": {},
   "outputs": [],
   "source": [
    "# pip install selenium\n",
    "from selenium import webdriver\n",
    "driver = webdriver.Chrome(\"chromedriver.exe\")\n",
    "driver.get('http://ksp.multicampus.com/ksp/servlet/controller.gate.common.GateConstServlet?p_grcode=000002&p_ssochk=N&p_gubun=&p_ifsubj=&p_ifyear=&p_ifsubjseq=&p_ifdistcode=')\n",
    "driver.find_element_by_xpath('//*[@id=\"glovalWrap\"]/div/div[1]/ul/li[1]/a/img').click()\n",
    "\n",
    "# //*[@id=\"id\"]\n",
    "# //*[@id=\"pw\"]\n",
    "userId = driver.find_element_by_xpath('//*[@id=\"id\"]')\n",
    "userId.clear()\n",
    "userId.send_keys(\"dennis1945\")\n",
    "userPwd = driver.find_element_by_xpath('//*[@id=\"pw\"]')\n",
    "userPwd.clear()\n",
    "userPwd.send_keys(\"123\")\n",
    "driver.find_element_by_xpath('//*[@id=\"contents\"]/div[2]/div/div/form/fieldset/div[2]/button').click()\n",
    "\n"
   ]
  },
  {
   "cell_type": "code",
   "execution_count": null,
   "metadata": {},
   "outputs": [],
   "source": []
  },
  {
   "cell_type": "code",
   "execution_count": null,
   "metadata": {},
   "outputs": [],
   "source": []
  }
 ],
 "metadata": {
  "kernelspec": {
   "display_name": "Python 3",
   "language": "python",
   "name": "python3"
  },
  "language_info": {
   "codemirror_mode": {
    "name": "ipython",
    "version": 3
   },
   "file_extension": ".py",
   "mimetype": "text/x-python",
   "name": "python",
   "nbconvert_exporter": "python",
   "pygments_lexer": "ipython3",
   "version": "3.7.1"
  }
 },
 "nbformat": 4,
 "nbformat_minor": 2
}
