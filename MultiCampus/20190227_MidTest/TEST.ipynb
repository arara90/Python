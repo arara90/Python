{
 "cells": [
  {
   "cell_type": "code",
   "execution_count": null,
   "metadata": {},
   "outputs": [],
   "source": [
    "#두수를 입력뱓아서 사칙 연산을 수행할 수 있는 계산기를 구현하시오.\n",
    "################1. 클래스 선언 ################\n",
    "class  MyCalculation :\n",
    "    #멤버 변수\n",
    "    num1=0\n",
    "    num2=0\n",
    "    sel=0\n",
    "    #멤버 메소드\n",
    "    def add(self) :\n",
    "        return (self.num1) + (self.num2) \n",
    "    def sub(self) :\n",
    "        return (self.num1) - (self.num2)\n",
    "    def mul(self) :\n",
    "        return (self.num1) * (self.num2) \n",
    "    def div(self) :\n",
    "        return (self.num1) / (self.num2)\n",
    "    \n",
    "    def cal(self):\n",
    "        if self.sel == 1 :\n",
    "            return self.add() \n",
    "        elif self.sel == 2 :\n",
    "            return self.sub()\n",
    "        elif self.sel == 3 :\n",
    "            return self.mul() \n",
    "        elif self.sel == 4 :\n",
    "            return self.div()\n",
    "        else :\n",
    "            x = input(\"연산 번호는 1에서 4사이로 입력하세요.\\n종료하려면 y, 다시 하려면 any : \")\n",
    "            if(x=='y'):\n",
    "                return 0\n",
    "\n",
    "################2. Main ################\n",
    "#MyCalculation 객체 생성\n",
    "myCal = MyCalculation()\n",
    "\n",
    "while(1):\n",
    "    #main화면 구성\n",
    "    print( \"\\n[[[[[[[[[[[[[[[[[[ 시 작 ]]]]]]]]]]]]]]]]]]]\")\n",
    "    n1 = input(\"첫번째 수 : \")\n",
    "    n2 = input(\"두번째 수 : \")\n",
    "    print( \"=========================================\")\n",
    "    print( \"1. +\" )\n",
    "    print( \"2. -\" )\n",
    "    print( \"3. *\" )\n",
    "    print( \"4. /\" )\n",
    "    cal = input(\">> 원하는 연산 번호를 입력하세요 : \")\n",
    "    \n",
    "    try:\n",
    "        myCal.num1 = int(n1)\n",
    "        myCal.num2 = int(n2)\n",
    "        myCal.sel = int(cal)\n",
    "        \n",
    "    except: #Error 발생 시\n",
    "        x = input(\"잘못 입력했습니다.\\n종료하려면 y, 다시 하려면 any : \")\n",
    "        if(x=='y'):\n",
    "            break;\n",
    "    else: \n",
    "        res = myCal.cal()\n",
    "        if ( res ) :\n",
    "            print(\">> 결과 :\", res)\n",
    "        else:\n",
    "            print(\"Bye\")\n",
    "            break;"
   ]
  },
  {
   "cell_type": "code",
   "execution_count": 4,
   "metadata": {},
   "outputs": [
    {
     "name": "stdout",
     "output_type": "stream",
     "text": [
      "날짜:  1927-12-31  / 최저기온 :  -23.1\n"
     ]
    }
   ],
   "source": [
    "#제공된 seoul.csv를 사용하여 기상 관측 이래 가장 추웠던 날은 몇도 인지 확인하시오.\n",
    "import pandas as pd\n",
    "from tqdm import tqdm_notebook as tn \n",
    "\n",
    "seoul = pd.read_csv(\"seoul.csv\", encoding='utf-8')\n",
    "type(seoul)\n",
    "\n",
    "seoul1 = seoul.loc[0:,[ '날짜','최저기온(℃)']]\n",
    "seoul1\n",
    "\n",
    "#첫번째 정보 저장\n",
    "date = seoul1.iloc[0,0]\n",
    "temp = seoul1.iloc[0,1]\n",
    "for i in range(0,len(seoul1)):\n",
    "    if (temp >= seoul1.iloc[i,1]) : #저장된 온도와 비교해서 더 낮으면 더 낮은 애 저장\n",
    "        temp = seoul1.iloc[i,1] \n",
    "        date = seoul1.iloc[i,0]\n",
    "\n",
    "print(\"날짜: \" , date, \" / 최저기온 : \", temp)"
   ]
  },
  {
   "cell_type": "code",
   "execution_count": 6,
   "metadata": {},
   "outputs": [
    {
     "name": "stdout",
     "output_type": "stream",
     "text": [
      "'d': day \n",
      "'m': month \n",
      "'y': year\n",
      "d\n",
      "당일로부터 몇일치? 2\n"
     ]
    },
    {
     "data": {
      "image/png": "[encoded data removed]",
      "text/plain": [
       "<Figure size 432x288 with 1 Axes>"
      ]
     },
     "metadata": {
      "needs_background": "light"
     },
     "output_type": "display_data"
    }
   ],
   "source": [
    "#그래프 출력\n",
    "import matplotlib.pyplot as plt\n",
    "\n",
    "s = 'd'\n",
    "##python은 do-while이 없으므로 다음과 같이 실행\n",
    "while 1 :\n",
    "    s = str(input(\"'d': day \\n'm': month \\n'y': year\\n\"))\n",
    "    if not ((s!='d') & (s!='m') & (s!='y')) :\n",
    "        break\n",
    "\n",
    "#n일치 보기\n",
    "n = int(input(\"당일로부터 몇일치? \"))\n",
    "\n",
    "#그래프 그리기 초기화\n",
    "fig = plt.figure()\n",
    "ax = fig.add_subplot(1,1,1)\n",
    "\n",
    "# n일치 x,y 정보 담기\n",
    "seoul2 = seoul1.tail(n)\n",
    "x = seoul2['날짜']\n",
    "y = seoul2['최저기온(℃)']\n",
    "\n",
    "# 최저 기온 구하기 \n",
    "xd = seoul2.iloc[0,0]\n",
    "yd = seoul2.iloc[0,1]\n",
    "for i in range(0,len(seoul2)):\n",
    "    if (yd >= seoul2.iloc[i,1]) : #저장된 온도와 비교해서 더 낮으면 더 낮은 애 저장\n",
    "        yd = seoul2.iloc[i,1] \n",
    "        xd = seoul2.iloc[i,0]\n",
    "\n",
    "# 최저기온 그릴때 annotation 설정\n",
    "ax.annotate( \"%s : %.2f\" % (xd ,yd)  #label\n",
    "            , xy = (xd,yd) #찍을 좌표\n",
    "            ,horizontalalignment ='left', verticalalignment='top' #annotation 위치\n",
    "           )\n",
    "\n",
    "#출력\n",
    "plt.plot(x,y,'-')\n",
    "#겹치는 라벨 풀어주기\n",
    "plt.tight_layout()\n",
    "#최저점찍기\n",
    "plt.plot(xd,yd,'yo')\n",
    "\n",
    "plt.show()"
   ]
  },
  {
   "cell_type": "code",
   "execution_count": null,
   "metadata": {},
   "outputs": [],
   "source": []
  }
 ],
 "metadata": {
  "kernelspec": {
   "display_name": "Python 3",
   "language": "python",
   "name": "python3"
  },
  "language_info": {
   "codemirror_mode": {
    "name": "ipython",
    "version": 3
   },
   "file_extension": ".py",
   "mimetype": "text/x-python",
   "name": "python",
   "nbconvert_exporter": "python",
   "pygments_lexer": "ipython3",
   "version": "3.7.1"
  }
 },
 "nbformat": 4,
 "nbformat_minor": 2
}
