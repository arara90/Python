{
 "cells": [
  {
   "cell_type": "code",
   "execution_count": 2,
   "metadata": {},
   "outputs": [
    {
     "name": "stdout",
     "output_type": "stream",
     "text": [
      "단수를 입력하세요 : 2\n",
      "2 * 1 = 2\n",
      "2 * 2 = 4\n",
      "2 * 3 = 6\n",
      "2 * 4 = 8\n",
      "2 * 5 = 10\n",
      "2 * 6 = 12\n",
      "2 * 7 = 14\n",
      "2 * 8 = 16\n",
      "단수를 입력하세요 : l\n",
      "종료하려면 y, 아니면 any : y\n"
     ]
    }
   ],
   "source": [
    "#단수를 입력하면 구구단을 출력하는 기능을 구현하시오. (계속적으로 입력가능하도록 처리해야함)\n",
    "def print_gugu(n):\n",
    "    for i in range(1,9):\n",
    "        print( n, \"*\" , i , \"=\" , n*i)\n",
    "        \n",
    "while(1):\n",
    "    n = input(\"단수를 입력하세요 : \")\n",
    "    try:\n",
    "        num = int(n)\n",
    "    except:\n",
    "        x = input(\"종료하려면 y, 아니면 any : \")\n",
    "        if(x=='y'):\n",
    "            break;\n",
    "    else:\n",
    "        print_gugu(num)"
   ]
  },
  {
   "cell_type": "code",
   "execution_count": null,
   "metadata": {},
   "outputs": [],
   "source": [
    "|"
   ]
  }
 ],
 "metadata": {
  "kernelspec": {
   "display_name": "Python 3",
   "language": "python",
   "name": "python3"
  },
  "language_info": {
   "codemirror_mode": {
    "name": "ipython",
    "version": 3
   },
   "file_extension": ".py",
   "mimetype": "text/x-python",
   "name": "python",
   "nbconvert_exporter": "python",
   "pygments_lexer": "ipython3",
   "version": "3.7.1"
  }
 },
 "nbformat": 4,
 "nbformat_minor": 2
}
