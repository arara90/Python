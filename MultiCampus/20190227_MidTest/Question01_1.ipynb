{
 "cells": [
  {
   "cell_type": "code",
   "execution_count": null,
   "metadata": {},
   "outputs": [],
   "source": [
    "#1부터 100까지의 합을 구현하시오.\n",
    "res1 = 0\n",
    "for i in range(1,101):\n",
    "    res1 += i\n",
    "print(res1)"
   ]
  },
  {
   "cell_type": "code",
   "execution_count": 1,
   "metadata": {},
   "outputs": [
    {
     "name": "stdout",
     "output_type": "stream",
     "text": [
      "2500\n"
     ]
    }
   ],
   "source": [
    "#1부터 100까지의 홀수의 합을 구현하시오.\n",
    "res2 = 0\n",
    "for i in range(1,101,2):\n",
    "    res2 += i\n",
    "print(res2)"
   ]
  },
  {
   "cell_type": "code",
   "execution_count": 2,
   "metadata": {},
   "outputs": [
    {
     "name": "stdout",
     "output_type": "stream",
     "text": [
      "2550\n"
     ]
    }
   ],
   "source": [
    "#1부터 100까지의 짝수의 합을 구현하시오.\n",
    "res3 = 0\n",
    "for i in range(1,101):\n",
    "    if (i % 2 == 0 ) :\n",
    "        res3 += i\n",
    "print(res3)"
   ]
  },
  {
   "cell_type": "code",
   "execution_count": 8,
   "metadata": {},
   "outputs": [
    {
     "name": "stdout",
     "output_type": "stream",
     "text": [
      "시작값: 1\n",
      "끝값: 10\n",
      "증가값: 2\n",
      "i= 1  / cumsum= 1\n",
      "i= 3  / cumsum= 4\n",
      "i= 5  / cumsum= 9\n",
      "i= 7  / cumsum= 16\n",
      "i= 9  / cumsum= 25\n",
      "\n",
      "★fin:  25\n"
     ]
    }
   ],
   "source": [
    "#시작값, 끝값, 증가값 3가지 입력을 받아서 합계를 처리하는 기능을 구현하시오.\n",
    "start = int(input(\"시작값: \"))\n",
    "end = int(input(\"끝값: \"))\n",
    "aug = int(input(\"증가값: \"))\n",
    "res4 = 0\n",
    "for i in range(start, end, aug):\n",
    "        res4 += i\n",
    "        print(\"i=\", i, \" / cumsum=\", res4)\n",
    "        \n",
    "print(\"\\n★fin: \" , res4)"
   ]
  },
  {
   "cell_type": "code",
   "execution_count": 10,
   "metadata": {},
   "outputs": [
    {
     "name": "stdout",
     "output_type": "stream",
     "text": [
      "어떤 커피 드릴까요?(1:보통, 2:설탕, 3:블랙) 1\n",
      "\n",
      "#1. 뜨거운 물을 준비한다.\n",
      "#2. 종이컵을 준비한다.\n",
      "#3. 보통커피를 탄다.\n",
      "#4. 물을 붓는다.\n",
      "#5. 스푼으로 젓는다.\n",
      "\n",
      "손님~ 커피 여기 있습니다.\n"
     ]
    }
   ],
   "source": [
    "coffee = 0\n",
    "\n",
    "coffee = int(input(\"어떤 커피 드릴까요?(1:보통, 2:설탕, 3:블랙) \"))\n",
    "\n",
    "print()\n",
    "print(\"#1. 뜨거운 물을 준비한다.\");\n",
    "print(\"#2. 종이컵을 준비한다.\");\n",
    "\n",
    "if coffee == 1 :\n",
    "     print(\"#3. 보통커피를 탄다.\")\n",
    "elif coffee == 2 :\n",
    "     print(\"#3. 설탕커피를 탄다.\")\n",
    "elif coffee == 3 :\n",
    "     print(\"#3. 블랙커피를 탄다.\")\n",
    "else :\n",
    "     print(\"#3. 아무거나 탄다.\\n\")\n",
    "\n",
    "print(\"#4. 물을 붓는다.\");\n",
    "print(\"#5. 스푼으로 젓는다.\");\n",
    "print()\n",
    "print(\"손님~ 커피 여기 있습니다.\");"
   ]
  },
  {
   "cell_type": "code",
   "execution_count": 12,
   "metadata": {},
   "outputs": [
    {
     "name": "stdout",
     "output_type": "stream",
     "text": [
      "A손님, 어떤 커피 드릴까요?(1:보통, 2:설탕, 3:블랙)1\n",
      "\n",
      "#1. (자동으로) 뜨거운 물을 준비한다.\n",
      "#2. (자동으로) 종이컵을 준비한다.\n",
      "#3. (자동으로) 보통커피를 탄다.\n",
      "#4. (자동으로) 물을 붓는다.\n",
      "#5. (자동으로) 스푼으로 젓는다.\n",
      "\n",
      "A손님~ 커피 여기 있습니다.\n",
      "B손님, 어떤 커피 드릴까요?(1:보통, 2:설탕, 3:블랙)2\n",
      "\n",
      "#1. (자동으로) 뜨거운 물을 준비한다.\n",
      "#2. (자동으로) 종이컵을 준비한다.\n",
      "#3. (자동으로) 설탕커피를 탄다.\n",
      "#4. (자동으로) 물을 붓는다.\n",
      "#5. (자동으로) 스푼으로 젓는다.\n",
      "\n",
      "B손님~ 커피 여기 있습니다.\n",
      "C손님, 어떤 커피 드릴까요?(1:보통, 2:설탕, 3:블랙)3\n",
      "\n",
      "#1. (자동으로) 뜨거운 물을 준비한다.\n",
      "#2. (자동으로) 종이컵을 준비한다.\n",
      "#3. (자동으로) 블랙커피를 탄다.\n",
      "#4. (자동으로) 물을 붓는다.\n",
      "#5. (자동으로) 스푼으로 젓는다.\n",
      "\n",
      "C손님~ 커피 여기 있습니다.\n"
     ]
    }
   ],
   "source": [
    "## 전역 변수 선언 부분 ##\n",
    "coffee = 0\n",
    "\n",
    "## 함수 선언 부분 ##\n",
    "def coffee_machine(button) :\n",
    "     print()\n",
    "     print(\"#1. (자동으로) 뜨거운 물을 준비한다.\");\n",
    "     print(\"#2. (자동으로) 종이컵을 준비한다.\");\n",
    "\n",
    "     if button == 1 :\n",
    "          print(\"#3. (자동으로) 보통커피를 탄다.\")\n",
    "     elif button == 2 :\n",
    "          print(\"#3. (자동으로) 설탕커피를 탄다.\")\n",
    "     elif button == 3 :\n",
    "          print(\"#3. (자동으로) 블랙커피를 탄다.\")\n",
    "     else :\n",
    "          print(\"#3. (자동으로) 아무거나 탄다.\\n\")\n",
    "\n",
    "     print(\"#4. (자동으로) 물을 붓는다.\");\n",
    "     print(\"#5. (자동으로) 스푼으로 젓는다.\");\n",
    "     print()\n",
    "\n",
    "## 메인 코드 부분 ##\n",
    "coffee = int(input(\"A손님, 어떤 커피 드릴까요?(1:보통, 2:설탕, 3:블랙)\"))\n",
    "coffee_machine(coffee)\n",
    "print(\"A손님~ 커피 여기 있습니다.\")\n",
    "\n",
    "coffee = int(input(\"B손님, 어떤 커피 드릴까요?(1:보통, 2:설탕, 3:블랙)\"))\n",
    "coffee_machine(coffee)\n",
    "print(\"B손님~ 커피 여기 있습니다.\")\n",
    "\n",
    "coffee = int(input(\"C손님, 어떤 커피 드릴까요?(1:보통, 2:설탕, 3:블랙)\"))\n",
    "coffee_machine(coffee)\n",
    "print(\"C손님~ 커피 여기 있습니다.\")"
   ]
  },
  {
   "cell_type": "code",
   "execution_count": 3,
   "metadata": {},
   "outputs": [
    {
     "name": "stdout",
     "output_type": "stream",
     "text": [
      "자동차1의 색상은 빨강이며, 현재 속도는 30km입니다.\n",
      "자동차2의 색상은 파랑이며, 현재 속도는 60km입니다.\n",
      "자동차3의 색상은 노랑이며, 현재 속도는 0km입니다.\n"
     ]
    }
   ],
   "source": [
    "## 클래스 선언 부분 ##\n",
    "class  Car :\n",
    "    color = \"\"\n",
    "    speed = 0\n",
    "\n",
    "    def  upSpeed(self, value) :\n",
    "        self.speed += value\n",
    "\n",
    "    def  downSpeed(self, value) :\n",
    "        self.speed -= value\n",
    "\n",
    "## 메인 코드 부분 ##\n",
    "myCar1 = Car()\n",
    "myCar1.color = \"빨강\"\n",
    "myCar1.speed = 0\n",
    "\n",
    "myCar2 = Car()\n",
    "myCar2.color = \"파랑\"\n",
    "myCar2.speed = 0\n",
    "\n",
    "myCar3 = Car()\n",
    "myCar3.color = \"노랑\"\n",
    "myCar3.speed = 0\n",
    "\n",
    "myCar1.upSpeed(30)\n",
    "print(\"자동차1의 색상은 %s이며, 현재 속도는 %dkm입니다.\" % (myCar1.color, myCar1.speed))\n",
    "\n",
    "myCar2.upSpeed(60)\n",
    "print(\"자동차2의 색상은 %s이며, 현재 속도는 %dkm입니다.\" % (myCar2.color, myCar2.speed))\n",
    "\n",
    "myCar3.upSpeed(0)\n",
    "print(\"자동차3의 색상은 %s이며, 현재 속도는 %dkm입니다.\" % (myCar3.color, myCar3.speed))"
   ]
  },
  {
   "cell_type": "code",
   "execution_count": null,
   "metadata": {},
   "outputs": [],
   "source": []
  }
 ],
 "metadata": {
  "kernelspec": {
   "display_name": "Python 3",
   "language": "python",
   "name": "python3"
  },
  "language_info": {
   "codemirror_mode": {
    "name": "ipython",
    "version": 3
   },
   "file_extension": ".py",
   "mimetype": "text/x-python",
   "name": "python",
   "nbconvert_exporter": "python",
   "pygments_lexer": "ipython3",
   "version": "3.7.1"
  }
 },
 "nbformat": 4,
 "nbformat_minor": 2
}
