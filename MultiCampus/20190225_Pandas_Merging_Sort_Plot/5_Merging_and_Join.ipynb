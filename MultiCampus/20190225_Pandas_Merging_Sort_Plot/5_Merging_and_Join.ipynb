{
 "cells": [
  {
   "cell_type": "code",
   "execution_count": 7,
   "metadata": {},
   "outputs": [
    {
     "name": "stdout",
     "output_type": "stream",
     "text": [
      "   Team  Rank  Year  Point\n",
      "0   Tom     1  2014     10\n",
      "1  John     2  2016     15\n",
      "2  John     3  2016     20\n",
      "3   Amy     4  2017     10\n"
     ]
    },
    {
     "data": {
      "text/plain": [
       "Team\n",
       "Amy     10\n",
       "John    35\n",
       "Tom     10\n",
       "Name: Point, dtype: int64"
      ]
     },
     "execution_count": 7,
     "metadata": {},
     "output_type": "execute_result"
    }
   ],
   "source": [
    "import numpy as np\n",
    "import pandas as pd\n",
    "\n",
    "data = {'Team' :['Tom', 'John', 'John','Amy']\n",
    "        , 'Rank' :[1,2,3,4]\n",
    "       ,'Year' : [2014,2016,2016,2017]\n",
    "       , 'Point' : [10,15,20,10]\n",
    "       }\n",
    "\n",
    "df = pd.DataFrame(data)\n",
    "print(df)\n",
    "df.groupby('Team')['Point'].mean()\n",
    "df.groupby('Team')['Point'].sum()"
   ]
  },
  {
   "cell_type": "code",
   "execution_count": 8,
   "metadata": {},
   "outputs": [],
   "source": [
    "#Merging & Join\n",
    "#pd.merge(left, right, how='inner', on = None, left_on = None, \n",
    "#         Rignt_on=None, left_index=False, right_index=False,sort=True)\n",
    "\n",
    "#default는 inner join / how 사용해서 outer join ( left, right, outer(full), inner)"
   ]
  },
  {
   "cell_type": "code",
   "execution_count": 38,
   "metadata": {},
   "outputs": [
    {
     "name": "stdout",
     "output_type": "stream",
     "text": [
      "   id    Name subject_id\n",
      "0   1    Alex       sub1\n",
      "1   2     Amy       sub2\n",
      "2   3   Allen       sub4\n",
      "3   4   Alice       sub6\n",
      "4   5  Ayoung       sub5\n",
      "\n",
      "    id     Name subject_id\n",
      "0   1    Alex2       sub2\n",
      "1   2     Amy2       sub4\n",
      "2   3   Allen2       sub3\n",
      "3   4   Alice2       sub6\n",
      "4   5  Ayoung2       sub5\n",
      "\n",
      "#######################Merge########################\n",
      "\n",
      " [m1] \n",
      "    id  Name_x subject_id_x   Name_y subject_id_y\n",
      "0   1    Alex         sub1    Alex2         sub2\n",
      "1   2     Amy         sub2     Amy2         sub4\n",
      "2   3   Allen         sub4   Allen2         sub3\n",
      "3   4   Alice         sub6   Alice2         sub6\n",
      "4   5  Ayoung         sub5  Ayoung2         sub5\n",
      "\n",
      " [m2] \n",
      "    id  Name_x subject_id   Name_y\n",
      "0   4   Alice       sub6   Alice2\n",
      "1   5  Ayoung       sub5  Ayoung2\n",
      "\n",
      " [m3:left outer] \n",
      ": left outer join    id  Name_x subject_id   Name_y\n",
      "0   1    Alex       sub1      NaN\n",
      "1   2     Amy       sub2      NaN\n",
      "2   3   Allen       sub4      NaN\n",
      "3   4   Alice       sub6   Alice2\n",
      "4   5  Ayoung       sub5  Ayoung2\n"
     ]
    }
   ],
   "source": [
    "import pandas as pd\n",
    "import numpy as np\n",
    "\n",
    "left = pd.DataFrame({\n",
    "    'id': [1,2,3,4,5]\n",
    "    ,'Name' : ['Alex','Amy','Allen','Alice','Ayoung']\n",
    "    , 'subject_id' : ['sub1', 'sub2', 'sub4', 'sub6' ,'sub5']\n",
    "})\n",
    "print( left )\n",
    "\n",
    "right = pd.DataFrame({\n",
    "    'id': [1,2,3,4,5]\n",
    "    ,'Name' : ['Alex2','Amy2','Allen2','Alice2','Ayoung2']\n",
    "    , 'subject_id' : ['sub2', 'sub4', 'sub3', 'sub6' ,'sub5']\n",
    "})\n",
    "print( \"\\n\" , right )\n",
    "\n",
    "print(\"\\n#######################Merge########################\")\n",
    "m1 = pd.merge(left,right, on='id')\n",
    "m2 = pd.merge(left,right, on=['id','subject_id'])\n",
    "print(\"\\n [m1] \\n\", m1)\n",
    "print(\"\\n [m2] \\n\", m2)\n",
    "\n",
    "m3 = pd.merge(left,right, on=['id','subject_id'], how = \"left\")\n",
    "print(\"\\n [m3:left outer] \\n: left outer join\", m3)\n"
   ]
  },
  {
   "cell_type": "code",
   "execution_count": 41,
   "metadata": {},
   "outputs": [
    {
     "name": "stdout",
     "output_type": "stream",
     "text": [
      "\n",
      "#######################Merge_suffixes : 컬럼명 변경########################\n",
      "\n",
      " [m4] \n",
      "    id  Name_x subject_id_x   Name_y subject_id_y\n",
      "0   1    Alex         sub1    Alex2         sub2\n",
      "1   2     Amy         sub2     Amy2         sub4\n",
      "2   3   Allen         sub4   Allen2         sub3\n",
      "3   4   Alice         sub6   Alice2         sub6\n",
      "4   5  Ayoung         sub5  Ayoung2         sub5\n",
      "   id Name_left subject_id_left Name_right subject_id_right\n",
      "0   1      Alex            sub1      Alex2             sub2\n",
      "1   2       Amy            sub2       Amy2             sub4\n",
      "2   3     Allen            sub4     Allen2             sub3\n",
      "3   4     Alice            sub6     Alice2             sub6\n",
      "4   5    Ayoung            sub5    Ayoung2             sub5\n"
     ]
    }
   ],
   "source": [
    "#\n",
    "print(\"\\n#######################Merge_suffixes : 컬럼명 변경########################\")\n",
    "m4 = pd.merge(left,right, on='id',suffixes=('_left','_right'))\n",
    "print(\"\\n [m4] \\n\", m1) #엥 =안돼..\n",
    "\n",
    "print(pd.merge(left,right, on='id',suffixes=('_left','_right')))"
   ]
  }
 ],
 "metadata": {
  "kernelspec": {
   "display_name": "Python 3",
   "language": "python",
   "name": "python3"
  },
  "language_info": {
   "codemirror_mode": {
    "name": "ipython",
    "version": 3
   },
   "file_extension": ".py",
   "mimetype": "text/x-python",
   "name": "python",
   "nbconvert_exporter": "python",
   "pygments_lexer": "ipython3",
   "version": "3.7.1"
  }
 },
 "nbformat": 4,
 "nbformat_minor": 2
}
