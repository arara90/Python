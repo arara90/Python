{
 "cells": [
  {
   "cell_type": "code",
   "execution_count": 17,
   "metadata": {},
   "outputs": [
    {
     "name": "stdout",
     "output_type": "stream",
     "text": [
      "\n",
      "#원본\n",
      "          0         1\n",
      "2  0.227447  0.792249\n",
      "1 -0.674902  1.013784\n",
      "0  1.402424 -0.507149\n",
      "3 -1.196379 -0.359224\n",
      "4  0.999931 -0.064932\n",
      "\n",
      "#인덱스 기준으로 sort\n",
      "          0         1\n",
      "0  1.402424 -0.507149\n",
      "1 -0.674902  1.013784\n",
      "2  0.227447  0.792249\n",
      "3 -1.196379 -0.359224\n",
      "4  0.999931 -0.064932\n",
      "\n",
      "#row 기준으로 sort (axis=0)\n",
      "          0         1\n",
      "0  1.402424 -0.507149\n",
      "1 -0.674902  1.013784\n",
      "2  0.227447  0.792249\n",
      "3 -1.196379 -0.359224\n",
      "4  0.999931 -0.064932\n",
      "\n",
      "#column 기준으로 sort (axis=1)\n",
      "          0         1\n",
      "2  0.227447  0.792249\n",
      "1 -0.674902  1.013784\n",
      "0  1.402424 -0.507149\n",
      "3 -1.196379 -0.359224\n",
      "4  0.999931 -0.064932\n",
      "\n",
      "#value 기준으로 sort(sort_values)\n",
      "          0         1\n",
      "3 -1.196379 -0.359224\n",
      "1 -0.674902  1.013784\n",
      "2  0.227447  0.792249\n",
      "4  0.999931 -0.064932\n",
      "0  1.402424 -0.507149\n"
     ]
    }
   ],
   "source": [
    "import pandas as pd\n",
    "import numpy as np\n",
    "\n",
    "print('\\n#원본')\n",
    "df = pd.DataFrame(np.random.randn(5,2), \n",
    "                index=[2,1,0,3,4] )\n",
    "print(df)\n",
    "\n",
    "print('\\n#인덱스 기준으로 sort')\n",
    "ds = df.sort_index() #ascending=False\n",
    "print(ds) \n",
    "\n",
    "print('\\n#row 기준으로 sort (axis=0)')\n",
    "dr = df.sort_index(axis=0)\n",
    "print(dr)\n",
    "\n",
    "print('\\n#column명 기준으로 sort (axis=1)')\n",
    "dc = df.sort_index(axis=1)\n",
    "print(dc)\n",
    "\n",
    "print('\\n#value 기준으로 sort(sort_values)')\n",
    "dv = df.sort_values(by=0)\n",
    "print(dv)\n",
    "\n"
   ]
  },
  {
   "cell_type": "code",
   "execution_count": 28,
   "metadata": {},
   "outputs": [
    {
     "name": "stdout",
     "output_type": "stream",
     "text": [
      "\n",
      "#value 기준으로 by=col1\n",
      "       col1      col2\n",
      "3 -1.196379 -0.359224\n",
      "1 -0.674902  1.013784\n",
      "2  0.227447  0.792249\n",
      "4  0.999931 -0.064932\n",
      "0  1.402424 -0.507149\n",
      "\n",
      "#value 기준으로 by=col2\n",
      "       col1      col2\n",
      "0  1.402424 -0.507149\n",
      "3 -1.196379 -0.359224\n",
      "4  0.999931 -0.064932\n",
      "2  0.227447  0.792249\n",
      "1 -0.674902  1.013784\n",
      "\n",
      "#value 기준으로 by=col1, col2\n",
      "       col1      col2\n",
      "3 -1.196379 -0.359224\n",
      "1 -0.674902  1.013784\n",
      "2  0.227447  0.792249\n",
      "4  0.999931 -0.064932\n",
      "0  1.402424 -0.507149\n"
     ]
    }
   ],
   "source": [
    "df.rename(columns={df.columns[0]:\"col1\",df.columns[1]:\"col2\" }, inplace=True)\n",
    "\n",
    "print('\\n#value 기준으로 by=col1')\n",
    "print(df.sort_values(by='col1'))\n",
    "\n",
    "print('\\n#value 기준으로 by=col2')\n",
    "print(df.sort_values(by='col2'))\n",
    "\n",
    "print('\\n#value 기준으로 by=col1, col2')\n",
    "print(df.sort_values(by=['col1','col2'], ascending=[True, False] ))\n"
   ]
  }
 ],
 "metadata": {
  "kernelspec": {
   "display_name": "Python 3",
   "language": "python",
   "name": "python3"
  },
  "language_info": {
   "codemirror_mode": {
    "name": "ipython",
    "version": 3
   },
   "file_extension": ".py",
   "mimetype": "text/x-python",
   "name": "python",
   "nbconvert_exporter": "python",
   "pygments_lexer": "ipython3",
   "version": "3.7.1"
  }
 },
 "nbformat": 4,
 "nbformat_minor": 2
}
