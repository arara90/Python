{
 "cells": [
  {
   "cell_type": "code",
   "execution_count": 4,
   "metadata": {},
   "outputs": [
    {
     "name": "stdout",
     "output_type": "stream",
     "text": [
      "\n",
      "# 1.for문이용\n",
      "['a', 'b', 'c', 'd', 'e', 'f', 'g', 'h']\n",
      "\n",
      "# 2.map함수 이용(list해줘야함)\n",
      "['a', 'b', 'c', 'd', 'e', 'f', 'g', 'h']\n"
     ]
    }
   ],
   "source": [
    "import numpy as np\n",
    "#영문-ASCII \n",
    "start = ord('a')\n",
    "end = ord('h') + 1\n",
    "data = []\n",
    "\n",
    "print(\"\\n# 1.for문이용\")\n",
    "for i in range(start,end):\n",
    "    data.append(chr(i))\n",
    "print(data)\n",
    "\n",
    "print(\"\\n# 2.map함수 이용(list해줘야함)\")\n",
    "#map(function, iterable 자료형)  list(map(lambda a: a*2, [1, 2, 3, 4])) 요련식으로 자주쓰임\n",
    "data1 = []\n",
    "data1 = list(map(chr, range(97, end)))\n",
    "print(data1)\n",
    "\n"
   ]
  }
 ],
 "metadata": {
  "kernelspec": {
   "display_name": "Python 3",
   "language": "python",
   "name": "python3"
  },
  "language_info": {
   "codemirror_mode": {
    "name": "ipython",
    "version": 3
   },
   "file_extension": ".py",
   "mimetype": "text/x-python",
   "name": "python",
   "nbconvert_exporter": "python",
   "pygments_lexer": "ipython3",
   "version": "3.7.1"
  }
 },
 "nbformat": 4,
 "nbformat_minor": 2
}
