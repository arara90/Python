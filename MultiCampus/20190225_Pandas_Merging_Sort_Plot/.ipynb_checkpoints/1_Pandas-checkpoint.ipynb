{
 "cells": [
  {
   "cell_type": "code",
   "execution_count": 1,
   "metadata": {},
   "outputs": [
    {
     "name": "stdout",
     "output_type": "stream",
     "text": [
      "\n",
      "#########################\n",
      "      a   b   c\n",
      "one  10  20  30\n",
      "two  40  50  60\n",
      "\n",
      "#########################\n",
      "        a   b   c\n",
      "one    10  20  30\n",
      "two    40  50  60\n",
      "three   0   0   0\n",
      "\n",
      "#########################\n",
      "   one  two\n",
      "a   10   40\n",
      "b   20   50\n",
      "c   30   60\n",
      "\n",
      "#########################\n"
     ]
    },
    {
     "data": {
      "text/plain": [
       "0      blue\n",
       "1      blue\n",
       "2    purple\n",
       "3    purple\n",
       "4    yellow\n",
       "5    yellow\n",
       "dtype: object"
      ]
     },
     "execution_count": 1,
     "metadata": {},
     "output_type": "execute_result"
    }
   ],
   "source": [
    "import pandas as pd\n",
    "\n",
    "df = pd.DataFrame([1,2,3,4])\n",
    "df.columns\n",
    "df.index\n",
    "df.values\n",
    "\n",
    "print(\"\\n#########################\")\n",
    "df2 = pd.DataFrame([[10,20,30],[40,50,60]], columns = ['a','b','c'], index = ['one','two'])\n",
    "print(df2)\n",
    "\n",
    "print(\"\\n#########################\")\n",
    "ri = df2.reindex(['one','two','three'], fill_value = 0)\n",
    "print(ri)\n",
    "\n",
    "print(\"\\n#########################\")\n",
    "df3 = df2.T\n",
    "print(df3)\n",
    "\n",
    "print(\"\\n#########################\")\n",
    "#ffull, pad : 앞의 값으로 채워넣는다\n",
    "#bfill, backfill : 뒤의 값으로 채워넣는다.\n",
    "\n",
    "ob3 = pd.Series(['blue','purple','yellow'], index=[0,2,4])\n",
    "#ob3.reindex(range(6), method='ffill') 이르케 하면 안되네..\n",
    "#rename에서는   ,inplace=True 사용한다!! 근데 reindex는 없나보네\n",
    "ob3 = ob3.reindex(range(6), method='ffill')\n",
    "ob3\n"
   ]
  },
  {
   "cell_type": "code",
   "execution_count": 66,
   "metadata": {},
   "outputs": [
    {
     "name": "stdout",
     "output_type": "stream",
     "text": [
      "      a   b   c\n",
      "one  10  20  30\n",
      "two  40  50  60\n",
      "      a   b   c\n",
      "two  40  50  60\n",
      "      b   c\n",
      "two  50  60\n"
     ]
    }
   ],
   "source": [
    "##drop : axis 0 => row, 1 => column\n",
    "print(df2)\n",
    "\n",
    "#df2.drop(['one']) 는 안되네..흠.. 왜?\n",
    "df2 = df2.drop(['one'], axis=0)\n",
    "print(df2)\n",
    "\n",
    "df2 = df2.drop(['a'], axis = 1)\n",
    "print(df2)"
   ]
  },
  {
   "cell_type": "code",
   "execution_count": 71,
   "metadata": {},
   "outputs": [
    {
     "name": "stdout",
     "output_type": "stream",
     "text": [
      "<class 'pandas.core.panel.Panel'>\n",
      "Dimensions: 2 (items) x 4 (major_axis) x 5 (minor_axis)\n",
      "Items axis: 0 to 1\n",
      "Major_axis axis: 0 to 3\n",
      "Minor_axis axis: 0 to 4\n"
     ]
    },
    {
     "data": {
      "text/plain": [
       "<class 'pandas.core.panel.Panel'>\n",
       "Dimensions: 2 (items) x 4 (major_axis) x 3 (minor_axis)\n",
       "Items axis: item1 to item2\n",
       "Major_axis axis: 0 to 3\n",
       "Minor_axis axis: 0 to 2"
      ]
     },
     "execution_count": 71,
     "metadata": {},
     "output_type": "execute_result"
    }
   ],
   "source": [
    "import numpy as np\n",
    "\n",
    "##Panel - 3차원\n",
    "data = np.random.rand(2,4,5)\n",
    "p = pd.Panel(data)\n",
    "print(p) #(2,4)가 5장이라고 생각! z-index \n",
    "\n",
    "data2 = {'item1':pd.DataFrame(np.random.rand(4,3)),\n",
    "         'item2':pd.DataFrame(np.random.rand(4,2))\n",
    "        }\n",
    "\n",
    "p2 = pd.Panel(data2)\n",
    "p2"
   ]
  },
  {
   "cell_type": "code",
   "execution_count": null,
   "metadata": {},
   "outputs": [],
   "source": [
    "|"
   ]
  }
 ],
 "metadata": {
  "kernelspec": {
   "display_name": "Python 3",
   "language": "python",
   "name": "python3"
  },
  "language_info": {
   "codemirror_mode": {
    "name": "ipython",
    "version": 3
   },
   "file_extension": ".py",
   "mimetype": "text/x-python",
   "name": "python",
   "nbconvert_exporter": "python",
   "pygments_lexer": "ipython3",
   "version": "3.7.1"
  }
 },
 "nbformat": 4,
 "nbformat_minor": 2
}
