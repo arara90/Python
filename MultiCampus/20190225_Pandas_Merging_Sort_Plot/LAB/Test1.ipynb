{
 "cells": [
  {
   "cell_type": "code",
   "execution_count": 44,
   "metadata": {},
   "outputs": [
    {
     "ename": "SyntaxError",
     "evalue": "invalid syntax (<ipython-input-44-c5561a72fb0c>, line 34)",
     "output_type": "error",
     "traceback": [
      "\u001b[1;36m  File \u001b[1;32m\"<ipython-input-44-c5561a72fb0c>\"\u001b[1;36m, line \u001b[1;32m34\u001b[0m\n\u001b[1;33m    df3 = pd.DataFrame(d)\u001b[0m\n\u001b[1;37m      ^\u001b[0m\n\u001b[1;31mSyntaxError\u001b[0m\u001b[1;31m:\u001b[0m invalid syntax\n"
     ]
    }
   ],
   "source": [
    "import pandas as pd\n",
    "\n",
    "df = pd.DataFrame([1,2,3,4])\n",
    "df.columns\n",
    "df.index\n",
    "df.values\n",
    "\n",
    "df2 = pd.DataFrame([[100, 200, 300], [400,500,600]],\n",
    "                  columns=['a','b','c'],\n",
    "                  index=['one','two'])\n",
    "df2.reindex(index=['two','one'])\n",
    "df2.reindex(columns=['a','c','b'])\n",
    "\n",
    "df2.drop(['a'], axis=1)\n",
    "df2.drop(['one'], axis=0)\n",
    "#df2.ix[0]\n",
    "\n",
    "# Panel\n",
    "# padas.Panel(data, items, major_axis, minor_axis, dtype)\n",
    "import numpy as np\n",
    "data = np.random.rand(2,4,5)\n",
    "p = pd.Panel(data)\n",
    "\n",
    "data2 = {'item1': pd.DataFrame(np.random.rand(4,3)),\n",
    "        'item2': pd.DataFrame(np.random.rand(4,2))}\n",
    "p2 = pd.Panel(data2)\n",
    "p2\n"
   ]
  },
  {
   "cell_type": "code",
   "execution_count": 55,
   "metadata": {},
   "outputs": [
    {
     "data": {
      "text/html": [
       "<div>\n",
       "<style scoped>\n",
       "    .dataframe tbody tr th:only-of-type {\n",
       "        vertical-align: middle;\n",
       "    }\n",
       "\n",
       "    .dataframe tbody tr th {\n",
       "        vertical-align: top;\n",
       "    }\n",
       "\n",
       "    .dataframe thead th {\n",
       "        text-align: right;\n",
       "    }\n",
       "</style>\n",
       "<table border=\"1\" class=\"dataframe\">\n",
       "  <thead>\n",
       "    <tr style=\"text-align: right;\">\n",
       "      <th></th>\n",
       "      <th>Age</th>\n",
       "      <th>Rating</th>\n",
       "    </tr>\n",
       "  </thead>\n",
       "  <tbody>\n",
       "    <tr>\n",
       "      <th>count</th>\n",
       "      <td>3.000000</td>\n",
       "      <td>3.000000</td>\n",
       "    </tr>\n",
       "    <tr>\n",
       "      <th>mean</th>\n",
       "      <td>21.333333</td>\n",
       "      <td>3.933333</td>\n",
       "    </tr>\n",
       "    <tr>\n",
       "      <th>std</th>\n",
       "      <td>1.527525</td>\n",
       "      <td>0.550757</td>\n",
       "    </tr>\n",
       "    <tr>\n",
       "      <th>min</th>\n",
       "      <td>20.000000</td>\n",
       "      <td>3.400000</td>\n",
       "    </tr>\n",
       "    <tr>\n",
       "      <th>25%</th>\n",
       "      <td>20.500000</td>\n",
       "      <td>3.650000</td>\n",
       "    </tr>\n",
       "    <tr>\n",
       "      <th>50%</th>\n",
       "      <td>21.000000</td>\n",
       "      <td>3.900000</td>\n",
       "    </tr>\n",
       "    <tr>\n",
       "      <th>75%</th>\n",
       "      <td>22.000000</td>\n",
       "      <td>4.200000</td>\n",
       "    </tr>\n",
       "    <tr>\n",
       "      <th>max</th>\n",
       "      <td>23.000000</td>\n",
       "      <td>4.500000</td>\n",
       "    </tr>\n",
       "  </tbody>\n",
       "</table>\n",
       "</div>"
      ],
      "text/plain": [
       "             Age    Rating\n",
       "count   3.000000  3.000000\n",
       "mean   21.333333  3.933333\n",
       "std     1.527525  0.550757\n",
       "min    20.000000  3.400000\n",
       "25%    20.500000  3.650000\n",
       "50%    21.000000  3.900000\n",
       "75%    22.000000  4.200000\n",
       "max    23.000000  4.500000"
      ]
     },
     "execution_count": 55,
     "metadata": {},
     "output_type": "execute_result"
    }
   ],
   "source": [
    "# Statistics\n",
    "\n",
    "import pandas as pd\n",
    "d = {'Name' : pd.Series(['tom','John','Amy']),\n",
    "     'Age' : pd.Series([20, 21,23]),\n",
    "     'Rating' : pd.Series([4.5, 3.9, 3.4])}\n",
    "df3 = pd.DataFrame(d)\n",
    "df3\n",
    "df3.sum()\n",
    "df3.sum(axis=1)\n",
    "df3.sum(1)\n",
    "df3.mean()\n",
    "df3.std()\n",
    "\n",
    "df3.describe()\n"
   ]
  }
 ],
 "metadata": {
  "kernelspec": {
   "display_name": "Python 3",
   "language": "python",
   "name": "python3"
  },
  "language_info": {
   "codemirror_mode": {
    "name": "ipython",
    "version": 3
   },
   "file_extension": ".py",
   "mimetype": "text/x-python",
   "name": "python",
   "nbconvert_exporter": "python",
   "pygments_lexer": "ipython3",
   "version": "3.7.1"
  }
 },
 "nbformat": 4,
 "nbformat_minor": 2
}
