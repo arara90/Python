{
 "cells": [
  {
   "cell_type": "code",
   "execution_count": 24,
   "metadata": {
    "scrolled": true
   },
   "outputs": [
    {
     "name": "stdout",
     "output_type": "stream",
     "text": [
      "Pandas(Index=0, col1=0.11607534603872627, col2=0.6318886804696087, col3=0.7491076791020367)\n",
      "Pandas(Index=1, col1=0.77809469728912, col2=0.23235817678107273, col3=0.12660622908847408)\n",
      "Pandas(Index=2, col1=0.21060435620833773, col2=0.7679230563169145, col3=0.19084193915688552)\n",
      "Pandas(Index=3, col1=0.36005600194547394, col2=0.47980736658324286, col3=0.1997495656171453)\n",
      "Pandas(Index=4, col1=0.4588092382811527, col2=0.15287803947225942, col3=0.15212229709446312)\n"
     ]
    }
   ],
   "source": [
    "import pandas as pd\n",
    "import numpy as np\n",
    "\n",
    "# pipe\n",
    "def add(a, b):\n",
    "    return a + b\n",
    "\n",
    "#c = add(1,2)\n",
    "#print(c)\n",
    "\n",
    "df = pd.DataFrame(np.random.rand(5,3), \n",
    "                  columns=['col1', 'col2', 'col3'])\n",
    "#print(df)\n",
    "#print(df.pipe(add, 2))\n",
    "\n",
    "#print(df.apply(np.mean))\n",
    "#print(df.apply(np.mean, axis=1))\n",
    "#df.apply(lambda x: x.max() - x.min())\n",
    "\n",
    "# rename\n",
    "df4 = pd.DataFrame(np.random.rand(5,3), \n",
    "                  columns=['col1', 'col2', 'col3'])\n",
    "\n",
    "df4.rename(columns={'co1':'c1', 'col2':'cl2'})\n",
    "df4.rename(index={0:'one', 1:'two'})\n",
    "\n",
    "# DataFrame Iteration\n",
    "df5 = pd.DataFrame(np.random.rand(5,3), \n",
    "                  columns=['col1', 'col2', 'col3'])\n",
    "#df5\n",
    "#for col in df5:\n",
    "#    print(col)\n",
    "\n",
    "#for key,value in df5.iteritems():\n",
    "#    print(key,value)\n",
    "    \n",
    "#for row_index, row in df5.iterrows():\n",
    "#    print(row_index, row)\n",
    "  \n",
    "#for row in df5.itertuples():\n",
    "#    print(row)"
   ]
  }
 ],
 "metadata": {
  "kernelspec": {
   "display_name": "Python 3",
   "language": "python",
   "name": "python3"
  },
  "language_info": {
   "codemirror_mode": {
    "name": "ipython",
    "version": 3
   },
   "file_extension": ".py",
   "mimetype": "text/x-python",
   "name": "python",
   "nbconvert_exporter": "python",
   "pygments_lexer": "ipython3",
   "version": "3.7.1"
  }
 },
 "nbformat": 4,
 "nbformat_minor": 2
}
