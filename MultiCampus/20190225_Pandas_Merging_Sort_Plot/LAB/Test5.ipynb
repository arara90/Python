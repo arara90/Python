{
 "cells": [
  {
   "cell_type": "code",
   "execution_count": 29,
   "metadata": {},
   "outputs": [
    {
     "data": {
      "text/html": [
       "<div>\n",
       "<style scoped>\n",
       "    .dataframe tbody tr th:only-of-type {\n",
       "        vertical-align: middle;\n",
       "    }\n",
       "\n",
       "    .dataframe tbody tr th {\n",
       "        vertical-align: top;\n",
       "    }\n",
       "\n",
       "    .dataframe thead th {\n",
       "        text-align: right;\n",
       "    }\n",
       "</style>\n",
       "<table border=\"1\" class=\"dataframe\">\n",
       "  <thead>\n",
       "    <tr style=\"text-align: right;\">\n",
       "      <th></th>\n",
       "      <th>col1</th>\n",
       "      <th>col2</th>\n",
       "    </tr>\n",
       "  </thead>\n",
       "  <tbody>\n",
       "    <tr>\n",
       "      <th>2</th>\n",
       "      <td>0.050689</td>\n",
       "      <td>-0.231913</td>\n",
       "    </tr>\n",
       "    <tr>\n",
       "      <th>3</th>\n",
       "      <td>0.381994</td>\n",
       "      <td>-0.104351</td>\n",
       "    </tr>\n",
       "    <tr>\n",
       "      <th>4</th>\n",
       "      <td>1.111880</td>\n",
       "      <td>-0.714600</td>\n",
       "    </tr>\n",
       "    <tr>\n",
       "      <th>0</th>\n",
       "      <td>1.165088</td>\n",
       "      <td>0.167573</td>\n",
       "    </tr>\n",
       "    <tr>\n",
       "      <th>1</th>\n",
       "      <td>2.895904</td>\n",
       "      <td>1.771644</td>\n",
       "    </tr>\n",
       "  </tbody>\n",
       "</table>\n",
       "</div>"
      ],
      "text/plain": [
       "       col1      col2\n",
       "2  0.050689 -0.231913\n",
       "3  0.381994 -0.104351\n",
       "4  1.111880 -0.714600\n",
       "0  1.165088  0.167573\n",
       "1  2.895904  1.771644"
      ]
     },
     "execution_count": 29,
     "metadata": {},
     "output_type": "execute_result"
    }
   ],
   "source": [
    "import pandas as pd\n",
    "import numpy as np\n",
    "\n",
    "df = pd.DataFrame(np.random.randn(5,2),\n",
    "                 index=[2,1,0,3,4])\n",
    "df.sort_index(ascending=False, axis=0) # default=True\n",
    "df.sort_index(axis=1)\n",
    "\n",
    "df.rename(columns={\n",
    "    df.columns[0]:\"col1\",\n",
    "    df.columns[1]:\"col2\"}, inplace=True)\n",
    "\n",
    "df.sort_values(by='col1')\n",
    "df.sort_values(by='col2')\n",
    "df.sort_values(by=['col1', 'col2'])\n",
    "df.sort_values(by=['col1', 'col2'], ascending=[True, False],\n",
    "              inplace = True)\n",
    "df\n"
   ]
  },
  {
   "cell_type": "code",
   "execution_count": 43,
   "metadata": {},
   "outputs": [
    {
     "data": {
      "text/plain": [
       "-2.236869555188305"
      ]
     },
     "execution_count": 43,
     "metadata": {},
     "output_type": "execute_result"
    }
   ],
   "source": [
    "# Missing Data -> NA or NaN\n",
    "df2 = pd.DataFrame(np.random.randn(5,3),\n",
    "                  index=['a', 'c', 'e', 'f', 'h'],\n",
    "                  columns=['one', 'two', 'three'])\n",
    "df3 = df2.reindex(['a', 'b', 'c', 'd', 'e', 'f', 'g', 'h'])\n",
    "df3.isnull()\n",
    "df3['one'].isnull()\n",
    "df3['one'].notnull()\n",
    "df3['one'].sum()"
   ]
  },
  {
   "cell_type": "code",
   "execution_count": 57,
   "metadata": {},
   "outputs": [
    {
     "data": {
      "text/html": [
       "<div>\n",
       "<style scoped>\n",
       "    .dataframe tbody tr th:only-of-type {\n",
       "        vertical-align: middle;\n",
       "    }\n",
       "\n",
       "    .dataframe tbody tr th {\n",
       "        vertical-align: top;\n",
       "    }\n",
       "\n",
       "    .dataframe thead th {\n",
       "        text-align: right;\n",
       "    }\n",
       "</style>\n",
       "<table border=\"1\" class=\"dataframe\">\n",
       "  <thead>\n",
       "    <tr style=\"text-align: right;\">\n",
       "      <th></th>\n",
       "      <th>one</th>\n",
       "      <th>two</th>\n",
       "      <th>three</th>\n",
       "    </tr>\n",
       "  </thead>\n",
       "  <tbody>\n",
       "    <tr>\n",
       "      <th>a</th>\n",
       "      <td>-1.936663</td>\n",
       "      <td>1.304694</td>\n",
       "      <td>-2.859274</td>\n",
       "    </tr>\n",
       "    <tr>\n",
       "      <th>c</th>\n",
       "      <td>0.493943</td>\n",
       "      <td>0.363113</td>\n",
       "      <td>0.368374</td>\n",
       "    </tr>\n",
       "    <tr>\n",
       "      <th>e</th>\n",
       "      <td>0.442073</td>\n",
       "      <td>0.182133</td>\n",
       "      <td>1.424277</td>\n",
       "    </tr>\n",
       "    <tr>\n",
       "      <th>f</th>\n",
       "      <td>-0.517114</td>\n",
       "      <td>1.481954</td>\n",
       "      <td>-0.742623</td>\n",
       "    </tr>\n",
       "    <tr>\n",
       "      <th>h</th>\n",
       "      <td>-0.719108</td>\n",
       "      <td>0.702258</td>\n",
       "      <td>-0.791332</td>\n",
       "    </tr>\n",
       "  </tbody>\n",
       "</table>\n",
       "</div>"
      ],
      "text/plain": [
       "        one       two     three\n",
       "a -1.936663  1.304694 -2.859274\n",
       "c  0.493943  0.363113  0.368374\n",
       "e  0.442073  0.182133  1.424277\n",
       "f -0.517114  1.481954 -0.742623\n",
       "h -0.719108  0.702258 -0.791332"
      ]
     },
     "execution_count": 57,
     "metadata": {},
     "output_type": "execute_result"
    }
   ],
   "source": [
    "df4 = pd.DataFrame(index=[0,1,2,3,4,5],\n",
    "                  columns=['one', 'two'])\n",
    "#print(df4)\n",
    "#print(df4.sum())\n",
    "#print(df4['one'].sum())\n",
    "\n",
    "df4.fillna(0)\n",
    "df3.dropna()"
   ]
  },
  {
   "cell_type": "code",
   "execution_count": null,
   "metadata": {},
   "outputs": [],
   "source": []
  },
  {
   "cell_type": "code",
   "execution_count": null,
   "metadata": {},
   "outputs": [],
   "source": []
  }
 ],
 "metadata": {
  "kernelspec": {
   "display_name": "Python 3",
   "language": "python",
   "name": "python3"
  },
  "language_info": {
   "codemirror_mode": {
    "name": "ipython",
    "version": 3
   },
   "file_extension": ".py",
   "mimetype": "text/x-python",
   "name": "python",
   "nbconvert_exporter": "python",
   "pygments_lexer": "ipython3",
   "version": "3.7.1"
  }
 },
 "nbformat": 4,
 "nbformat_minor": 2
}
