{
 "cells": [
  {
   "cell_type": "code",
   "execution_count": 9,
   "metadata": {},
   "outputs": [
    {
     "data": {
      "text/plain": [
       "Team\n",
       "Amy     10\n",
       "John    35\n",
       "Tom     10\n",
       "Name: Point, dtype: int64"
      ]
     },
     "execution_count": 9,
     "metadata": {},
     "output_type": "execute_result"
    }
   ],
   "source": [
    "import pandas as pd\n",
    "import numpy as np\n",
    "\n",
    "data = {'Team' : ['Tom', 'John', 'John', 'Amy'],\n",
    "        'Rank' : [1, 2, 2, 3],\n",
    "        'Year' : [2014, 2016, 2016, 2018],\n",
    "        'Point' : [10, 15, 20, 10]\n",
    "       }\n",
    "df = pd.DataFrame(data)\n",
    "df.groupby('Team')['Point'].mean()\n",
    "df.groupby('Team')['Point'].sum()\n",
    "#df.groupby('Team').groups\n",
    "#df2 = df.groupby('Team')\n",
    "#for name, group in df2:\n",
    "#    print(name, group)"
   ]
  },
  {
   "cell_type": "code",
   "execution_count": null,
   "metadata": {},
   "outputs": [],
   "source": [
    "# Merging & Join\n",
    "#pd.merge(left, right, how='inner', on=None, left_on=None,\n",
    "#    right_on=None, left_index=False, \n",
    "#    right_index=False, sort=True)"
   ]
  },
  {
   "cell_type": "code",
   "execution_count": 25,
   "metadata": {},
   "outputs": [
    {
     "data": {
      "text/html": [
       "<div>\n",
       "<style scoped>\n",
       "    .dataframe tbody tr th:only-of-type {\n",
       "        vertical-align: middle;\n",
       "    }\n",
       "\n",
       "    .dataframe tbody tr th {\n",
       "        vertical-align: top;\n",
       "    }\n",
       "\n",
       "    .dataframe thead th {\n",
       "        text-align: right;\n",
       "    }\n",
       "</style>\n",
       "<table border=\"1\" class=\"dataframe\">\n",
       "  <thead>\n",
       "    <tr style=\"text-align: right;\">\n",
       "      <th></th>\n",
       "      <th>id</th>\n",
       "      <th>Name</th>\n",
       "      <th>subject_id</th>\n",
       "    </tr>\n",
       "  </thead>\n",
       "  <tbody>\n",
       "  </tbody>\n",
       "</table>\n",
       "</div>"
      ],
      "text/plain": [
       "Empty DataFrame\n",
       "Columns: [id, Name, subject_id]\n",
       "Index: []"
      ]
     },
     "execution_count": 25,
     "metadata": {},
     "output_type": "execute_result"
    }
   ],
   "source": [
    "import pandas as pd\n",
    "import numpy as np\n",
    "\n",
    "left = pd.DataFrame({\n",
    "        'id' : [1, 2, 3, 4, 5],\n",
    "        'Name' : ['Alex', 'Amy', 'Allen', 'Alice', 'Ayoung'],\n",
    "        'subject_id' : ['sub1', 'sub2', 'sub4', 'sub6', 'sub5']})\n",
    "\n",
    "right= pd.DataFrame({\n",
    "        'id' : [1, 2, 3, 4, 5],\n",
    "        'Name' : ['Alex2', 'Amy2', 'Allen2', 'Alice2', 'Ayoung2'],\n",
    "        'subject_id' : ['sub2', 'sub4', 'sub3', 'sub6', 'sub5']})\n",
    "pd.merge(left, right, on='id')\n",
    "pd.merge(left, right, on=['id', 'subject_id'])\n",
    "pd.merge(left, right, on='subject_id')\n",
    "\n",
    "pd.merge(left, right, on='subject_id', how=\"left\")\n",
    "pd.merge(left, right, on='subject_id', how=\"right\")\n",
    "# how = \n",
    "# left => LEFT OUTER JOIN\n",
    "# right => RIGHT OUTER JOIN\n",
    "# outer => FULL OUTER JOIN\n",
    "# inner => INNER JOIN\n",
    "pd.merge(left, right)"
   ]
  },
  {
   "cell_type": "code",
   "execution_count": null,
   "metadata": {},
   "outputs": [],
   "source": []
  },
  {
   "cell_type": "code",
   "execution_count": null,
   "metadata": {},
   "outputs": [],
   "source": []
  },
  {
   "cell_type": "code",
   "execution_count": null,
   "metadata": {},
   "outputs": [],
   "source": []
  },
  {
   "cell_type": "code",
   "execution_count": null,
   "metadata": {},
   "outputs": [],
   "source": []
  }
 ],
 "metadata": {
  "kernelspec": {
   "display_name": "Python 3",
   "language": "python",
   "name": "python3"
  },
  "language_info": {
   "codemirror_mode": {
    "name": "ipython",
    "version": 3
   },
   "file_extension": ".py",
   "mimetype": "text/x-python",
   "name": "python",
   "nbconvert_exporter": "python",
   "pygments_lexer": "ipython3",
   "version": "3.7.1"
  }
 },
 "nbformat": 4,
 "nbformat_minor": 2
}
