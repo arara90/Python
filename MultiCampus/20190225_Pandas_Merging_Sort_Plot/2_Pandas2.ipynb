{
 "cells": [
  {
   "cell_type": "code",
   "execution_count": 2,
   "metadata": {},
   "outputs": [
    {
     "name": "stdout",
     "output_type": "stream",
     "text": [
      "     0    1    2    3\n",
      "0  1.0  2.0  NaN  4.0\n",
      "1  5.0  6.0  7.0  8.0\n",
      "\n",
      "\n",
      "0    3.0\n",
      "1    4.0\n",
      "2    7.0\n",
      "3    6.0\n",
      "dtype: float64\n",
      "0    2.333333\n",
      "1    6.500000\n",
      "dtype: float64\n",
      "0    3.0\n",
      "1    4.0\n",
      "2    NaN\n",
      "3    6.0\n",
      "dtype: float64\n",
      "0    3.0\n",
      "1    4.0\n",
      "2    7.0\n",
      "3    6.0\n",
      "dtype: float64\n"
     ]
    }
   ],
   "source": [
    "import pandas as pd\n",
    "import numpy as np\n",
    "\n",
    "df = pd.DataFrame([[1,2,np.nan,4],[5,6,7,8]], dtype = np.float64)\n",
    "df\n",
    "\n",
    "print(df)\n",
    "print(\"\\n\")\n",
    "print(df.mean(axis = 0))  #defalut > skipna = True\n",
    "print(df.mean(axis = 1)) #defalut > skipna = True\n",
    "\n",
    "print(df.mean(skipna = False))\n",
    "print(df.mean(skipna = True))\n",
    "\n"
   ]
  },
  {
   "cell_type": "code",
   "execution_count": 30,
   "metadata": {},
   "outputs": [
    {
     "name": "stdout",
     "output_type": "stream",
     "text": [
      "0    3.0\n",
      "1    4.0\n",
      "2    7.0\n",
      "3    6.0\n",
      "dtype: float64\n",
      "<class 'pandas.core.series.Series'>\n",
      "0    3.0\n",
      "1    4.0\n",
      "2    7.0\n",
      "3    6.0\n",
      "dtype: float64\n",
      "<class 'pandas.core.series.Series'>\n"
     ]
    }
   ],
   "source": [
    "##결과가 columns? 즉 열계산하면 row가 아니라 Seriese로 뽑힌다. \n",
    "df2 = df.mean(axis = 0)\n",
    "print(df2)\n",
    "print(type(df2))\n",
    "\n",
    "#.T를 해줘야 row결과로 나올듯\n",
    "df3 = df2.T\n",
    "print(df3)\n",
    "print(type(df3)) #여전히 Series... 즉, 무조건 Series가 기본단위이며 결과는 Series를 엮음것. .T는 dataFrame에서만/\n"
   ]
  },
  {
   "cell_type": "code",
   "execution_count": 3,
   "metadata": {},
   "outputs": [
    {
     "name": "stdout",
     "output_type": "stream",
     "text": [
      "       col1      col2      col3\n",
      "0  0.514605  0.491014  0.829632\n",
      "1  0.653534  0.066354  0.041121\n",
      "2  0.802116  0.714029  0.981703\n",
      "3  0.006091  0.639053  0.460278\n",
      "4  0.995161  0.020952  0.350550\n",
      "            c1        c2      col3\n",
      "zero  0.514605  0.491014  0.829632\n",
      "one   0.653534  0.066354  0.041121\n",
      "2     0.802116  0.714029  0.981703\n",
      "3     0.006091  0.639053  0.460278\n",
      "4     0.995161  0.020952  0.350550\n",
      "c1\n",
      "c2\n",
      "col3\n"
     ]
    }
   ],
   "source": [
    "#rename\n",
    "\n",
    "df4 = pd.DataFrame(np.random.rand(5,3), columns = ['col1','col2','col3'])\n",
    "print(df4)\n",
    "df4 = df4.rename(columns = {'col1':'c1', 'col2':'c2'})\n",
    "df4 = df4.rename(index = {0:'zero', 1 :'one'})\n",
    "print(df4)\n",
    "\n",
    "for i in df4 :\n",
    "    print(i)"
   ]
  },
  {
   "cell_type": "code",
   "execution_count": 49,
   "metadata": {},
   "outputs": [
    {
     "name": "stdout",
     "output_type": "stream",
     "text": [
      "col1\n",
      "col2\n",
      "col3\n",
      "###########1.tuple형태#############\n",
      "('col1', 0    0.883712\n",
      "1    0.591288\n",
      "2    0.823905\n",
      "3    0.173232\n",
      "4    0.243537\n",
      "Name: col1, dtype: float64)\n",
      "<class 'pandas.core.series.Series'>\n",
      "('col2', 0    0.530400\n",
      "1    0.983913\n",
      "2    0.320364\n",
      "3    0.052234\n",
      "4    0.903480\n",
      "Name: col2, dtype: float64)\n",
      "<class 'pandas.core.series.Series'>\n",
      "('col3', 0    0.454920\n",
      "1    0.766718\n",
      "2    0.393202\n",
      "3    0.977221\n",
      "4    0.450027\n",
      "Name: col3, dtype: float64)\n",
      "<class 'pandas.core.series.Series'>\n",
      "##########2.key, value##############\n",
      "col1 0    0.883712\n",
      "1    0.591288\n",
      "2    0.823905\n",
      "3    0.173232\n",
      "4    0.243537\n",
      "Name: col1, dtype: float64\n",
      "col2 0    0.530400\n",
      "1    0.983913\n",
      "2    0.320364\n",
      "3    0.052234\n",
      "4    0.903480\n",
      "Name: col2, dtype: float64\n",
      "col3 0    0.454920\n",
      "1    0.766718\n",
      "2    0.393202\n",
      "3    0.977221\n",
      "4    0.450027\n",
      "Name: col3, dtype: float64\n",
      "##########3.row_index##############\n",
      "col1 0    0.883712\n",
      "1    0.591288\n",
      "2    0.823905\n",
      "3    0.173232\n",
      "4    0.243537\n",
      "Name: col1, dtype: float64\n",
      "col2 0    0.530400\n",
      "1    0.983913\n",
      "2    0.320364\n",
      "3    0.052234\n",
      "4    0.903480\n",
      "Name: col2, dtype: float64\n",
      "col3 0    0.454920\n",
      "1    0.766718\n",
      "2    0.393202\n",
      "3    0.977221\n",
      "4    0.450027\n",
      "Name: col3, dtype: float64\n"
     ]
    }
   ],
   "source": [
    "#Iteration\\\n",
    "df5 =  pd.DataFrame(np.random.rand(5,3), columns = ['col1','col2','col3'])\n",
    "\n",
    "for col in df5:\n",
    "    print(col)\n",
    "    \n",
    "print('###########1.tuple형태#############')\n",
    "#tuple형태로 출력\n",
    "for row in df5.iteritems():\n",
    "    print(row)\n",
    "    print(type(row[1]))\n",
    "    \n",
    "print('##########2.key, value##############')\n",
    "for key,value in df5.iteritems():\n",
    "    print(key,value)\n",
    "    \n",
    "print('##########3.row_index##############')\n",
    "for row_index,row in df5.iteritems():\n",
    "    print(row_index,row)\n",
    "\n",
    "    \n",
    "\n"
   ]
  }
 ],
 "metadata": {
  "kernelspec": {
   "display_name": "Python 3",
   "language": "python",
   "name": "python3"
  },
  "language_info": {
   "codemirror_mode": {
    "name": "ipython",
    "version": 3
   },
   "file_extension": ".py",
   "mimetype": "text/x-python",
   "name": "python",
   "nbconvert_exporter": "python",
   "pygments_lexer": "ipython3",
   "version": "3.7.1"
  }
 },
 "nbformat": 4,
 "nbformat_minor": 2
}
