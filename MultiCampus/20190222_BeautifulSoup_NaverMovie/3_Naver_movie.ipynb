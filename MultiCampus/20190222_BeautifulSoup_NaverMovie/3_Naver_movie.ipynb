{
 "cells": [
  {
   "cell_type": "code",
   "execution_count": 3,
   "metadata": {},
   "outputs": [
    {
     "name": "stdout",
     "output_type": "stream",
     "text": [
      " days : 1\n",
      "2019-02-25 09:19:12.869884\n",
      "2019-02-24 09:19:12.869884\n",
      "\n",
      "#############################################################\n",
      "https://movie.naver.com/movie/sdb/rank/rmovie.nhn?sel=cur&date=20190225\n",
      "                 title  rating\n",
      "0                 가버나움    9.60\n",
      "1                 그린 북    9.64\n",
      "2  극장판 헬로카봇:옴파로스 섬의 비밀    8.79\n",
      "3                 극한직업    8.68\n",
      "4               기묘한 가족    5.67\n",
      "5               내안의 그놈    8.30\n",
      "6      님아, 그 강을 건너지 마오    9.23\n",
      "7                더 랍스터    7.88\n",
      "8           드래곤 길들이기 3    9.26\n",
      "9         드래곤볼 슈퍼: 브로리    9.23\n",
      "(39, 2)\n",
      "<class 'pandas.core.frame.DataFrame'>\n",
      "\n",
      "#############################################################\n",
      "title\n",
      "가버나움                   9.60\n",
      "그린 북                   9.64\n",
      "극장판 헬로카봇:옴파로스 섬의 비밀    8.79\n",
      "극한직업                   8.68\n",
      "기묘한 가족                 5.67\n",
      "내안의 그놈                 8.30\n",
      "님아, 그 강을 건너지 마오        9.23\n",
      "더 랍스터                  7.88\n",
      "드래곤 길들이기 3             9.26\n",
      "드래곤볼 슈퍼: 브로리           9.23\n",
      "Name: rating, dtype: float64\n",
      "(39,)\n",
      "<class 'pandas.core.frame.DataFrame'>\n"
     ]
    },
    {
     "data": {
      "text/plain": [
       "<matplotlib.axes._subplots.AxesSubplot at 0x1c4ef9f19b0>"
      ]
     },
     "execution_count": 3,
     "metadata": {},
     "output_type": "execute_result"
    },
    {
     "data": {
      "image/png": "[encoded data removed]",
      "text/plain": [
       "<Figure size 432x288 with 1 Axes>"
      ]
     },
     "metadata": {
      "needs_background": "light"
     },
     "output_type": "display_data"
    }
   ],
   "source": [
    "from bs4 import BeautifulSoup\n",
    "import pandas as pd\n",
    "\n",
    "import urllib.request\n",
    "import urllib.parse\n",
    "\n",
    "import datetime \n",
    "import numpy as np\n",
    "\n",
    "#기간설정\n",
    "day = int(input(\" days : \"))\n",
    "today = datetime.datetime.now() #2019-02-22 15:09:27.528510\n",
    "d_start = today - datetime.timedelta(days=day)\n",
    "print(today)\n",
    "print(d_start)\n",
    "print(\"\\n#############################################################\")\n",
    "\n",
    "#data parsing\n",
    "data = []\n",
    "for i in range(0,day):\n",
    "    #print(\"i : \", i)\n",
    "    d_tmp = today - datetime.timedelta(days=i)\n",
    "    url = 'https://movie.naver.com/movie/sdb/rank/rmovie.nhn?sel=cur&date=' +  d_tmp.strftime(\"%Y%m%d\")\n",
    "    print(url)\n",
    "    \n",
    "    with urllib.request.urlopen(url) as response:\n",
    "        html = response.read()\n",
    "        soup = BeautifulSoup(html, 'html.parser')\n",
    "        \n",
    "    titles = soup.find_all(\"div\",{\"class\": \"tit5\"})\n",
    "    ratings = soup.find_all(\"td\",{\"class\": \"point\"})\n",
    "    \n",
    "    for i in range(len(titles)):\n",
    "        data.append([titles[i].a.string, float(ratings[i].string) ])\n",
    "        \n",
    "#print(data)\n",
    "df = pd.DataFrame(data, columns=['title', 'rating'])\n",
    "#print(df.groupby(['title']).mean())\n",
    "\n",
    "\n",
    "res = df.groupby(['title'])['rating'].mean().reset_index(name='rating')\n",
    "res1 = df.groupby(['title'])['rating'].mean()\n",
    "\n",
    "#reset_index 비교\n",
    "print(\"\\n#############################reset_index################################\")\n",
    "print(res.head(10))\n",
    "print(res.shape)\n",
    "print(type(res))\n",
    "\n",
    "print(\"\\n#############################non_reset_index################################\")\n",
    "print(res1.head(10))\n",
    "print(res1.shape)\n",
    "print(type(res))\n",
    "\n",
    "#sort\n",
    "res_sorted = res.head(5).sort_values(by='rating', ascending = False)\n",
    "\n",
    "#chart\n",
    "import matplotlib.pyplot as plt\n",
    "x = list(res_sorted['title'].head(5))\n",
    "y = list(res_sorted['rating'].head(5))\n",
    "\n",
    "#한글\n",
    "from matplotlib import font_manager, rc\n",
    "font_name = font_manager.FontProperties(fname = \"C:\\Windows\\Fonts\\malgun.ttf\").get_name()\n",
    "rc('font', family = font_name)\n",
    "\n",
    "res_sorted.plot.bar(x='title', y='rating')\n",
    "#res_sorted.plot.bar()\n",
    "#plt.show()\n",
    "\n"
   ]
  }
 ],
 "metadata": {
  "kernelspec": {
   "display_name": "Python 3",
   "language": "python",
   "name": "python3"
  },
  "language_info": {
   "codemirror_mode": {
    "name": "ipython",
    "version": 3
   },
   "file_extension": ".py",
   "mimetype": "text/x-python",
   "name": "python",
   "nbconvert_exporter": "python",
   "pygments_lexer": "ipython3",
   "version": "3.7.1"
  }
 },
 "nbformat": 4,
 "nbformat_minor": 2
}
