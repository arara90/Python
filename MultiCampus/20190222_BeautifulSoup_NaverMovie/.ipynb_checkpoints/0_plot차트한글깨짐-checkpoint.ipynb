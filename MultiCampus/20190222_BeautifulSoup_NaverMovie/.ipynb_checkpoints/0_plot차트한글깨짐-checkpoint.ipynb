{
 "cells": [
  {
   "cell_type": "code",
   "execution_count": null,
   "metadata": {},
   "outputs": [],
   "source": [
    "import pandas as pd\n",
    "import numpy as np\n",
    "import matplotlib as mpl\n",
    "#import matplotlib.pyplot as plt\n",
    "od = pd.read_csv(\"bycycle.csv\", encoding = \"EUC-KR\")\n",
    "#교통사고정보를 이용하여 각각의 시도별 발생건수, 사상자수, 사망자수, 중상사주, 경상자수, 부상신고자수 합계를 구하고\n",
    "#그래프로 출력하시오. (pandas or numpy사용)\n",
    "# 관할 경잘서 기준 \n",
    "# 시도별\n",
    "\n",
    "#################함수1. 문자열에서 숫자 제거하기\n",
    "def remove_number(str1):\n",
    "    li = list(str1)\n",
    "    num=[]\n",
    "    for a in range(0,len(li)):         #숫자있으면 지워버리기\n",
    "        if ( li[a].isnumeric() ):\n",
    "            num.append(li[a])\n",
    "    #숫자제거\n",
    "    if(len(num)>0):                      \n",
    "        for b in range(0,len(num)):\n",
    "            li.remove(num[b])    \n",
    "            \n",
    "    #문자열로 리턴  \n",
    "    res = \"\".join(li)\n",
    "    return (res)                \n",
    "#################0.원하는 것만 담아서 저장\n",
    "m1 = od[['스팟코드', '관할경찰서','발생건수','사상자수','중상자수','경상자수','부상신고자수']]\n",
    "\n",
    "#################1.시도 나누기\n",
    "m1[\"스팟코드\"] = m1[\"스팟코드\"].apply(lambda e: int(e/10000))\n",
    "m1[\"관할경찰서1\"] = m1[\"관할경찰서\"].apply(lambda e: e.split()[0])\n",
    "m1[\"관할경찰서2\"] = m1[\"관할경찰서\"].apply(lambda e: remove_number(e.split()[1]))\n",
    "#print(m1)\n",
    "\n",
    "#################2. 행별 합계구하기\n",
    "m1[\"합계\"] = m1.loc[0:, ['발생건수','사상자수','중상자수','경상자수','부상신고자수']].sum(axis = 1)\n",
    "\n",
    "#################3. 원하는 값만 뽑기\n",
    "m2 = m1[['스팟코드', '관할경찰서1', '관할경찰서2', '합계']]\n",
    "#print(m2)\n",
    "\n",
    "#################4. 합계\n",
    "res1 = m2.groupby('관할경찰서1')['합계'].sum()\n",
    "print(\"########도,시별#########\")\n",
    "print(res1)\n",
    "##print(res['관할경찰서1'])\n",
    "\n",
    "print(\"\\n########구,시별#########\")\n",
    "res2 = m2.groupby(['관할경찰서1','관할경찰서2'])['합계'].sum()\n",
    "print(res2)\n",
    "\n",
    "\n",
    "#################5. 차트 그리기\n",
    "\n",
    "res2.plot.bar()\n",
    "#res1.plot.line()\n"
   ]
  },
  {
   "cell_type": "code",
   "execution_count": 2,
   "metadata": {},
   "outputs": [
    {
     "name": "stdout",
     "output_type": "stream",
     "text": [
      "버전:  3.0.2\n",
      "설치 위치:  C:\\ProgramData\\Anaconda3\\lib\\site-packages\\matplotlib\\__init__.py\n",
      "설정 위치:  C:\\Users\\Administrator\\.matplotlib\n",
      "캐시 위치:  C:\\Users\\Administrator\\.matplotlib\n"
     ]
    }
   ],
   "source": [
    "import matplotlib as mpl\n",
    "\n",
    "print ('버전: ', mpl.__version__)\n",
    "print ('설치 위치: ', mpl.__file__)\n",
    "print ('설정 위치: ', mpl.get_configdir())\n",
    "print ('캐시 위치: ', mpl.get_cachedir())"
   ]
  }
 ],
 "metadata": {
  "kernelspec": {
   "display_name": "Python 3",
   "language": "python",
   "name": "python3"
  },
  "language_info": {
   "codemirror_mode": {
    "name": "ipython",
    "version": 3
   },
   "file_extension": ".py",
   "mimetype": "text/x-python",
   "name": "python",
   "nbconvert_exporter": "python",
   "pygments_lexer": "ipython3",
   "version": "3.7.1"
  }
 },
 "nbformat": 4,
 "nbformat_minor": 2
}
