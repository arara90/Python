{
 "cells": [
  {
   "cell_type": "code",
   "execution_count": 57,
   "metadata": {},
   "outputs": [
    {
     "name": "stdout",
     "output_type": "stream",
     "text": [
      " days : 2\n",
      "i :  0\n",
      "i :  1\n",
      "2019\n",
      "2\n",
      "2019-02-02 15:20:31.745426\n",
      "<class 'datetime.datetime'>\n",
      "<class 'datetime.timedelta'>\n",
      "20190202\n"
     ]
    }
   ],
   "source": [
    "import datetime \n",
    "\n",
    "\n",
    "day = int(input(\" days : \"))\n",
    "\n",
    "t0 = datetime.datetime.now() #2019-02-22 15:09:27.528510\n",
    "d_start = datetime.timedelta(days=-day)\n",
    "\n",
    "for i in range(0,day):\n",
    "    print(\"i : \", i)\n",
    "\n",
    "\n",
    "year = t0.year\n",
    "month = t0.month\n",
    "\n",
    "print(year)\n",
    "print(month)\n",
    "\n",
    "dt = t0 + d\n",
    "\n",
    "print(dt) #2019-02-21 15:09:27.528510\n",
    "print(type(t0))\n",
    "print(type(d))\n",
    "\n",
    "print(dt.strftime(\"%Y%m%d\"))"
   ]
  },
  {
   "cell_type": "code",
   "execution_count": null,
   "metadata": {},
   "outputs": [],
   "source": [
    "from bs4 import BeautifulSoup\n",
    "import pandas as pd\n",
    "import urllib.request\n",
    "import urllib.parse\n",
    "import datetime \n",
    "\n",
    "#기간설정\n",
    "day = int(input(\" days : \"))\n",
    "today = datetime.datetime.now() #2019-02-22 15:09:27.528510\n",
    "d_start = today - datetime.timedelta(days=day)\n",
    "print(today)\n",
    "print(d_start)\n",
    "print(\"###########################\")\n",
    "\n",
    "data = []\n",
    "for i in range(0,day):\n",
    "    #print(\"i : \", i)\n",
    "    d_tmp = today + datetime.timedelta(days=i)\n",
    "    url = 'https://movie.naver.com/movie/sdb/rank/rmovie.nhn?sel=cur&date=' +  d_tmp.strftime(\"%Y%m%d\")\n",
    "    print(url)\n",
    "    \n",
    "    with urllib.request.urlopen(url) as response:\n",
    "        html = response.read()\n",
    "        soup = BeautifulSoup(html, 'html.parser')\n",
    "        \n",
    "    titles = soup.find_all(\"div\",{\"class\": \"tit5\"})\n",
    "    ratings = soup.find_all(\"td\",{\"class\": \"point\"})\n",
    "    \n",
    "    for i in range(len(titles)):\n",
    "        data.append([titles[i].a.string, ratings[i].string])\n",
    "        \n",
    "    \n",
    "df = pd.DataFrame(data, columns=['title', 'rating'])\n",
    "\n",
    "import matplotlib.pyplot as plt\n",
    "x = list(df['title'].head())\n",
    "y = list(df['rating'].head().astype(float))\n",
    "\n",
    "plt.plot(x,y)\n",
    "plt.show()\n",
    "\n",
    "\n",
    "\n",
    "\n",
    "\n",
    "\n"
   ]
  }
 ],
 "metadata": {
  "kernelspec": {
   "display_name": "Python 3",
   "language": "python",
   "name": "python3"
  },
  "language_info": {
   "codemirror_mode": {
    "name": "ipython",
    "version": 3
   },
   "file_extension": ".py",
   "mimetype": "text/x-python",
   "name": "python",
   "nbconvert_exporter": "python",
   "pygments_lexer": "ipython3",
   "version": "3.7.1"
  }
 },
 "nbformat": 4,
 "nbformat_minor": 2
}
