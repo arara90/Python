{
 "cells": [
  {
   "cell_type": "code",
   "execution_count": 57,
   "metadata": {},
   "outputs": [
    {
     "name": "stdout",
     "output_type": "stream",
     "text": [
      " days : 2\n",
      "i :  0\n",
      "i :  1\n",
      "2019\n",
      "2\n",
      "2019-02-02 15:20:31.745426\n",
      "<class 'datetime.datetime'>\n",
      "<class 'datetime.timedelta'>\n",
      "20190202\n"
     ]
    }
   ],
   "source": [
    "import datetime \n",
    "\n",
    "\n",
    "day = int(input(\" days : \"))\n",
    "\n",
    "t0 = datetime.datetime.now() #2019-02-22 15:09:27.528510\n",
    "d_start = datetime.timedelta(days=-day)\n",
    "\n",
    "for i in range(0,day):\n",
    "    print(\"i : \", i)\n",
    "\n",
    "\n",
    "year = t0.year\n",
    "month = t0.month\n",
    "\n",
    "print(year)\n",
    "print(month)\n",
    "\n",
    "dt = t0 + d\n",
    "\n",
    "print(dt) #2019-02-21 15:09:27.528510\n",
    "print(type(t0))\n",
    "print(type(d))\n",
    "\n",
    "print(dt.strftime(\"%Y%m%d\"))"
   ]
  }
 ],
 "metadata": {
  "kernelspec": {
   "display_name": "Python 3",
   "language": "python",
   "name": "python3"
  },
  "language_info": {
   "codemirror_mode": {
    "name": "ipython",
    "version": 3
   },
   "file_extension": ".py",
   "mimetype": "text/x-python",
   "name": "python",
   "nbconvert_exporter": "python",
   "pygments_lexer": "ipython3",
   "version": "3.7.1"
  }
 },
 "nbformat": 4,
 "nbformat_minor": 2
}
