{
 "cells": [
  {
   "cell_type": "code",
   "execution_count": 32,
   "metadata": {},
   "outputs": [
    {
     "name": "stdout",
     "output_type": "stream",
     "text": [
      "[1. 2. 3. 4.]\n",
      "[1 2 3 4]\n",
      "[[0. 0. 0. 0. 0. 0.]\n",
      " [0. 0. 0. 0. 0. 0.]\n",
      " [0. 0. 0. 0. 0. 0.]]\n",
      "[[1. 1. 1. 1. 1. 1.]\n",
      " [1. 1. 1. 1. 1. 1.]\n",
      " [1. 1. 1. 1. 1. 1.]]\n",
      "[[0. 0. 0.]\n",
      " [0. 0. 0.]]\n",
      "[0 1 2 3 4 5 6 7 8 9]\n",
      "<class 'numpy.bytes_'>\n",
      "[b'1.3' b'1.2' b'3']\n",
      "[1.3 1.2 3. ]\n",
      "<class 'numpy.float64'>\n",
      "<class 'numpy.bytes_'>\n"
     ]
    }
   ],
   "source": [
    "import numpy as np\n",
    "\n",
    "arr = np.array([1,2,3,4], dtype = np.float64) #기본형\n",
    "print(arr)\n",
    "\n",
    "arr1 = np.array([1,2,3,4], dtype = np.int64)\n",
    "print(arr1)\n",
    "\n",
    "zeros = np.zeros((3,6))\n",
    "print(zeros)\n",
    "\n",
    "ones = np.ones((3,6))\n",
    "print(ones)\n",
    "\n",
    "empty = np.empty((2,3))\n",
    "print(empty)\n",
    "\n",
    "arange = np.arange(10)\n",
    "print(arange)\n",
    "\n",
    "v_type = np.array( ['1.3','1.2','3'] , dtype = np.string_)\n",
    "print(type(v_type[0]))\n",
    "print(v_type)\n",
    "#astype을 호출하면 항상 새로운 배열 생성 (데이터 복사)\n",
    "v2 = v_type.astype(float) #알아서 알맞는 타입 (np.float64 로 변경)\n",
    "print(v2)\n",
    "print(type(v2[0]))\n",
    "\n",
    "v2 = v_type.astype(v_type.dtype) #다른 객체의 데이터 타입을 동일하게 맞춰줄 수 있음\n",
    "print(type(v2[0]))\n",
    "\n",
    "\n"
   ]
  },
  {
   "cell_type": "code",
   "execution_count": 56,
   "metadata": {},
   "outputs": [
    {
     "name": "stdout",
     "output_type": "stream",
     "text": [
      "['Bob' 'Joe' 'Will' 'Bob' 'Will' 'Joe' 'Joe']\n",
      "[[-1.2625898   0.67767224  0.27498008  1.49160533]\n",
      " [ 0.21582177  1.11270595 -0.96215815  2.30934014]\n",
      " [-1.47674799 -0.51345749 -0.19703879  0.27210995]\n",
      " [-0.70094414 -2.5734711   1.43924277  0.167313  ]\n",
      " [-0.25581829  0.93130263 -0.40947225 -1.97802452]\n",
      " [-1.15438463 -0.96413227 -0.46184502 -0.18913074]\n",
      " [-0.24848028 -1.06630254  0.21113868  1.2121385 ]]\n",
      "[ True False False  True False False False]\n",
      "[[-1.2625898   0.67767224  0.27498008  1.49160533]\n",
      " [-0.70094414 -2.5734711   1.43924277  0.167313  ]]\n",
      "Bob or Will\n",
      "<class 'numpy.str_'>\n"
     ]
    },
    {
     "ename": "TypeError",
     "evalue": "ufunc 'bitwise_or' not supported for the input types, and the inputs could not be safely coerced to any supported types according to the casting rule ''safe''",
     "output_type": "error",
     "traceback": [
      "\u001b[1;31m---------------------------------------------------------------------------\u001b[0m",
      "\u001b[1;31mTypeError\u001b[0m                                 Traceback (most recent call last)",
      "\u001b[1;32m<ipython-input-56-312ff23ae586>\u001b[0m in \u001b[0;36m<module>\u001b[1;34m\u001b[0m\n\u001b[0;32m     14\u001b[0m \u001b[0mprint\u001b[0m\u001b[1;33m(\u001b[0m\u001b[1;34m\"Bob or Will\"\u001b[0m\u001b[1;33m)\u001b[0m\u001b[1;33m\u001b[0m\u001b[1;33m\u001b[0m\u001b[0m\n\u001b[0;32m     15\u001b[0m \u001b[0mprint\u001b[0m\u001b[1;33m(\u001b[0m\u001b[0mtype\u001b[0m\u001b[1;33m(\u001b[0m\u001b[0mname\u001b[0m\u001b[1;33m[\u001b[0m\u001b[1;36m0\u001b[0m\u001b[1;33m]\u001b[0m\u001b[1;33m)\u001b[0m\u001b[1;33m)\u001b[0m\u001b[1;33m\u001b[0m\u001b[1;33m\u001b[0m\u001b[0m\n\u001b[1;32m---> 16\u001b[1;33m \u001b[0mmask\u001b[0m \u001b[1;33m=\u001b[0m \u001b[1;33m(\u001b[0m\u001b[0mname\u001b[0m \u001b[1;33m==\u001b[0m \u001b[1;34m'Bob'\u001b[0m \u001b[1;33m|\u001b[0m \u001b[0mname\u001b[0m \u001b[1;33m==\u001b[0m \u001b[1;34m'Will'\u001b[0m\u001b[1;33m)\u001b[0m\u001b[1;33m\u001b[0m\u001b[1;33m\u001b[0m\u001b[0m\n\u001b[0m\u001b[0;32m     17\u001b[0m \u001b[1;31m#print(data[mask]) # Data의 각 행을 name과 대치시키고 비교\u001b[0m\u001b[1;33m\u001b[0m\u001b[1;33m\u001b[0m\u001b[1;33m\u001b[0m\u001b[0m\n\u001b[0;32m     18\u001b[0m \u001b[1;33m\u001b[0m\u001b[0m\n",
      "\u001b[1;31mTypeError\u001b[0m: ufunc 'bitwise_or' not supported for the input types, and the inputs could not be safely coerced to any supported types according to the casting rule ''safe''"
     ]
    }
   ],
   "source": [
    "\n",
    "#### bool\n",
    "name = np.array(['Bob','Joe','Will','Bob','Will','Joe','Joe'])\n",
    "name1 = np.array(['Bob','Joe','Will','Bob','Will','Joe','Joe','Bob'])\n",
    "data = np.random.randn(7,4)\n",
    "print(name)\n",
    "print(data)\n",
    "\n",
    "##bool 연산\n",
    "name_bool = 'Bob'==name\n",
    "print(name_bool)\n",
    "print(data[name == 'Bob']) # Data의 각 행을 name과 대치시키고 비교\n",
    "\n",
    "print(\"Bob or Will\")\n",
    "print(type(name[0]))\n",
    "mask = (name == 'Bob' | name == 'Will')\n",
    "#print(data[mask]) # Data의 각 행을 name과 대치시키고 비교\n",
    "\n",
    "#print(data[name1 == 'Bob']) # 이거는 행의 수가 맞지 않아서 에러난다.\n",
    "\n",
    "#열 선택해서 가져오기\n",
    "print(data[name == 'Bob',2:])"
   ]
  },
  {
   "cell_type": "code",
   "execution_count": null,
   "metadata": {},
   "outputs": [],
   "source": []
  }
 ],
 "metadata": {
  "kernelspec": {
   "display_name": "Python 3",
   "language": "python",
   "name": "python3"
  },
  "language_info": {
   "codemirror_mode": {
    "name": "ipython",
    "version": 3
   },
   "file_extension": ".py",
   "mimetype": "text/x-python",
   "name": "python",
   "nbconvert_exporter": "python",
   "pygments_lexer": "ipython3",
   "version": "3.7.1"
  }
 },
 "nbformat": 4,
 "nbformat_minor": 2
}
