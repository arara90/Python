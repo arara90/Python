{
 "cells": [
  {
   "cell_type": "code",
   "execution_count": 5,
   "metadata": {},
   "outputs": [
    {
     "name": "stdout",
     "output_type": "stream",
     "text": [
      "myhome\n",
      "e\n",
      "m\n",
      "ho\n",
      "myhom\n"
     ]
    }
   ],
   "source": [
    "s = 'myhome'\n",
    "print(s[:]) #myhome\n",
    "print(s[-1]) #e\n",
    "print(s[0:1]) #m\n",
    "print(s[2:-2]) #ho\n",
    "print(s[:-1]) #myhom"
   ]
  },
  {
   "cell_type": "code",
   "execution_count": 7,
   "metadata": {},
   "outputs": [
    {
     "name": "stdout",
     "output_type": "stream",
     "text": [
      "myhomemyhome\n"
     ]
    }
   ],
   "source": [
    "ss = s * 2\n",
    "print(ss)"
   ]
  },
  {
   "cell_type": "code",
   "execution_count": 9,
   "metadata": {},
   "outputs": [
    {
     "name": "stdout",
     "output_type": "stream",
     "text": [
      "[1, 2, 3, 4]\n"
     ]
    }
   ],
   "source": [
    "#일반 LIST\n",
    "b1 = [1,2]\n",
    "c1 = [3,4]\n",
    "bc = (b1 + c1) \n",
    "print(bc) \n",
    "\n",
    "import numpy as np\n",
    "bn = np.array([1,2])\n",
    "cn = np.array([3,4])\n",
    "bcn = (bn + cn)\n"
   ]
  }
 ],
 "metadata": {
  "kernelspec": {
   "display_name": "Python 3",
   "language": "python",
   "name": "python3"
  },
  "language_info": {
   "codemirror_mode": {
    "name": "ipython",
    "version": 3
   },
   "file_extension": ".py",
   "mimetype": "text/x-python",
   "name": "python",
   "nbconvert_exporter": "python",
   "pygments_lexer": "ipython3",
   "version": "3.7.1"
  }
 },
 "nbformat": 4,
 "nbformat_minor": 2
}
