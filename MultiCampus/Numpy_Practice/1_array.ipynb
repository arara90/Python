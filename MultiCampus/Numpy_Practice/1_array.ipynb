{
 "cells": [
  {
   "cell_type": "code",
   "execution_count": 23,
   "metadata": {},
   "outputs": [
    {
     "name": "stdout",
     "output_type": "stream",
     "text": [
      "before [1 2 3 4]\n",
      "after [1 6 6 4]\n",
      "[['1' '2' '3' '4']\n",
      " ['a' 'b' 'c' 'd']]\n",
      "[['1' 'a']\n",
      " ['2' 'b']\n",
      " ['3' 'c']\n",
      " ['4' 'd']]\n",
      "\n",
      " c's shape is  (3, 2, 3)\n",
      "[[['1' '2' '3']\n",
      "  ['a' 'b' 'c']]\n",
      "\n",
      " [['4' '5' '6']\n",
      "  ['d' 'e' 'f']]\n",
      "\n",
      " [['7' '8' '9']\n",
      "  ['g' 'h' 'i']]]\n"
     ]
    }
   ],
   "source": [
    "import numpy as np\n",
    "a = np.array([1,2,3,4])\n",
    "print(\"before\",  a)\n",
    "a[1:3] = 6\n",
    "print(\"after\",  a)\n",
    "\n",
    "b = np.array([[1,2,3,4],['a','b','c','d']])\n",
    "print(b)\n",
    "print(b.T)\n",
    "\n",
    "c= np.array([[[1,2,3],['a','b','c']],[[4,5,6],['d','e','f']],[[7,8,9],['g','h','i']]])\n",
    "print(\"\\n c's shape is \" , c.shape)\n",
    "print(c)"
   ]
  },
  {
   "cell_type": "code",
   "execution_count": 32,
   "metadata": {},
   "outputs": [
    {
     "name": "stdout",
     "output_type": "stream",
     "text": [
      "[[ 0.96812691  2.03719251 -0.14634755  0.57606248]\n",
      " [-0.12794452 -1.1885047  -0.90225864  1.14406536]\n",
      " [-1.62824167 -0.20278646 -0.56648664  0.06556861]\n",
      " [-0.7035173  -0.85953944  1.23288312  1.17085971]\n",
      " [-0.39593485 -1.32673141  0.31648892 -1.93731036]\n",
      " [-0.15847244 -0.39972344 -1.87449088 -0.37765418]\n",
      " [-0.09098446 -0.85846814 -0.49212395  0.27538109]]\n",
      "['Bob' 'Joe' 'Will' 'Bob' 'Will' 'Joe' 'Joe']\n",
      "[ True False False  True False False False]\n",
      "[[ 0.96812691  2.03719251 -0.14634755  0.57606248]\n",
      " [-0.7035173  -0.85953944  1.23288312  1.17085971]]\n"
     ]
    }
   ],
   "source": [
    "###########Mask\n",
    "names = np.array(['Bob','Joe','Will','Bob','Will','Joe','Joe'])\n",
    "datas = np.random.randn(7,4)\n",
    "print(datas)\n",
    "print(names.T)\n",
    "\n",
    "print(names == 'Bob')\n",
    "mask = (names == 'Bob')\n",
    "#mask가 각 row에 매칭된걸 볼 수 있음\n",
    "print( datas[mask] )\n"
   ]
  },
  {
   "cell_type": "code",
   "execution_count": 38,
   "metadata": {},
   "outputs": [
    {
     "data": {
      "text/plain": [
       "array([[0.96812691, 2.03719251, 0.        , 0.57606248],\n",
       "       [0.        , 0.        , 0.        , 1.14406536],\n",
       "       [0.        , 0.        , 0.        , 0.06556861],\n",
       "       [0.        , 0.        , 1.23288312, 1.17085971],\n",
       "       [0.        , 0.        , 0.31648892, 0.        ],\n",
       "       [0.        , 0.        , 0.        , 0.        ],\n",
       "       [0.        , 0.        , 0.        , 0.27538109]])"
      ]
     },
     "execution_count": 38,
     "metadata": {},
     "output_type": "execute_result"
    }
   ],
   "source": [
    "##조건주기 : 0보다 작은 애들은 다 0으로 \n",
    "datas[datas < 0] = 0\n",
    "datas"
   ]
  },
  {
   "cell_type": "code",
   "execution_count": 73,
   "metadata": {},
   "outputs": [
    {
     "name": "stdout",
     "output_type": "stream",
     "text": [
      "[[0. 0. 0. 0.]\n",
      " [1. 1. 1. 1.]\n",
      " [2. 2. 2. 2.]\n",
      " [3. 3. 3. 3.]\n",
      " [4. 4. 4. 4.]\n",
      " [5. 5. 5. 5.]\n",
      " [6. 6. 6. 6.]\n",
      " [7. 7. 7. 7.]]\n",
      "\n",
      " [[0. 0. 0. 0.]\n",
      " [4. 4. 4. 4.]\n",
      " [3. 3. 3. 3.]\n",
      " [1. 1. 1. 1.]]\n",
      "\n",
      " [[ 0  1  2  3]\n",
      " [ 4  5  6  7]\n",
      " [ 8  9 10 11]\n",
      " [12 13 14 15]\n",
      " [16 17 18 19]\n",
      " [20 21 22 23]\n",
      " [24 25 26 27]\n",
      " [28 29 30 31]]\n",
      "\n",
      " arr2[[1,5,6,2],[0,3,1,2]] : \n",
      "  [ 4 23 25 10]\n",
      "\n",
      " arr2[[1,5,6,2]][ :, [0,3,1,2]] : \n",
      "  [[ 4  7  5  6]\n",
      " [20 23 21 22]\n",
      " [24 27 25 26]\n",
      " [ 8 11  9 10]]\n",
      "\n",
      " arr2[np.ix_([1,5,6,2],[0,3,1,2])]: \n",
      "  [[ 4  7  5  6]\n",
      " [20 23 21 22]\n",
      " [24 27 25 26]\n",
      " [ 8 11  9 10]]\n"
     ]
    }
   ],
   "source": [
    "#팬시색인\n",
    "arr = np.empty((8,4))\n",
    "for i in range(8):\n",
    "    arr[i] = i\n",
    "print(arr)\n",
    "print(\"\\n\" , arr[[0,4,3,1]])\n",
    "\n",
    "arr2 = np.arange(32).reshape((8,4))\n",
    "print(\"\\n\", arr2)\n",
    "print(\"\\n arr2[[1,5,6,2],[0,3,1,2]] : \\n \", arr2[[1,5,6,2],[0,3,1,2]]) #원하는 모양이 아님\n",
    "print(\"\\n arr2[[1,5,6,2]][ :, [0,3,1,2]] : \\n \", arr2[[1,5,6,2]][ :, [0,3,1,2]] )\n",
    "print(\"\\n arr2[np.ix_([1,5,6,2],[0,3,1,2])]: \\n \", arr2[np.ix_([1,5,6,2],[0,3,1,2])] )\n"
   ]
  },
  {
   "cell_type": "code",
   "execution_count": 87,
   "metadata": {},
   "outputs": [
    {
     "name": "stdout",
     "output_type": "stream",
     "text": [
      "res [1.1, 2.2, 2.3, 1.4]\n",
      "res2 [1.1 2.2 2.3 1.4]\n",
      "res3 [0.  2.2 2.3 0. ]\n"
     ]
    }
   ],
   "source": [
    "#배열 연산으로 조건절 표현\n",
    "xarr = np.array([1.1,1.2,1.3,1.4])\n",
    "yarr = np.array([2.1,2.2,2.3,2.4])\n",
    "cond = np.array([True,False,False,True])\n",
    "\n",
    "#1.순수 python\n",
    "res = [(x if c else y) for x,y,c in zip(xarr,yarr,cond)]\n",
    "# y가 True면 x False면 c\n",
    "print(\"res\" ,res) #but 다차원에서는 사용할 수 없고, 느리다\n",
    "\n",
    "#2.where \n",
    "res2 = np.where(cond,xarr,yarr) # 2,3 인자는 배열이 아니어도 괜찮다.\n",
    "print(\"res2\" ,res2)\n",
    "\n",
    "#3. where의 사용\n",
    "res3 = np.where(res2 < 2, 0.0 ,res2)\n",
    "print(\"res3\" ,res3)"
   ]
  }
 ],
 "metadata": {
  "kernelspec": {
   "display_name": "Python 3",
   "language": "python",
   "name": "python3"
  },
  "language_info": {
   "codemirror_mode": {
    "name": "ipython",
    "version": 3
   },
   "file_extension": ".py",
   "mimetype": "text/x-python",
   "name": "python",
   "nbconvert_exporter": "python",
   "pygments_lexer": "ipython3",
   "version": "3.7.1"
  }
 },
 "nbformat": 4,
 "nbformat_minor": 2
}
