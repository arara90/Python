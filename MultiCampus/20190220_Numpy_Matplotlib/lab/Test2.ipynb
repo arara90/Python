{
 "cells": [
  {
   "cell_type": "code",
   "execution_count": 9,
   "metadata": {},
   "outputs": [
    {
     "data": {
      "image/png": "[encoded data removed]",
      "text/plain": [
       "<Figure size 432x288 with 1 Axes>"
      ]
     },
     "metadata": {
      "needs_background": "light"
     },
     "output_type": "display_data"
    }
   ],
   "source": [
    "import csv\n",
    "f = open(\"seoul.csv\", encoding=\"utf-8\")\n",
    "data = csv.reader(f)\n",
    "next(data)\n",
    "# 역대 서울의 최고 기온을 히스토그램으로 출력하시오.\n",
    "max = []\n",
    "for row in data:\n",
    "    if(row[-1] != \"\"):\n",
    "        max.append(float(row[-1]))\n",
    "\n",
    "import matplotlib.pyplot as plt\n",
    "plt.hist(max, bins=100)\n",
    "plt.show()"
   ]
  },
  {
   "cell_type": "code",
   "execution_count": null,
   "metadata": {},
   "outputs": [],
   "source": []
  }
 ],
 "metadata": {
  "kernelspec": {
   "display_name": "Python 3",
   "language": "python",
   "name": "python3"
  },
  "language_info": {
   "codemirror_mode": {
    "name": "ipython",
    "version": 3
   },
   "file_extension": ".py",
   "mimetype": "text/x-python",
   "name": "python",
   "nbconvert_exporter": "python",
   "pygments_lexer": "ipython3",
   "version": "3.7.1"
  }
 },
 "nbformat": 4,
 "nbformat_minor": 2
}
