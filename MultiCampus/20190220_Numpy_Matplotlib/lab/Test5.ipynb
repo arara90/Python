{
 "cells": [
  {
   "cell_type": "code",
   "execution_count": 32,
   "metadata": {
    "scrolled": true
   },
   "outputs": [
    {
     "name": "stdout",
     "output_type": "stream",
     "text": [
      "[0 1 2]\n",
      "[3 4 5]\n",
      "[6 7 8]\n",
      "......\n",
      "(9,)\n",
      "1\n",
      "5.0\n",
      "9\n",
      "1\n",
      "45\n",
      "(3, 3)\n",
      "2\n",
      "5.0\n",
      "9\n",
      "1\n",
      "45\n"
     ]
    },
    {
     "data": {
      "text/plain": [
       "2.0"
      ]
     },
     "execution_count": 32,
     "metadata": {},
     "output_type": "execute_result"
    }
   ],
   "source": [
    "import numpy as np\n",
    "data = np.array([[0, 1, 2], [3, 4, 5], [6, 7, 8]])\n",
    "data.shape\n",
    "data.ndim\n",
    "\n",
    "print(data[0])\n",
    "print(data[1])\n",
    "print(data[2])\n",
    "data[data > 4]\n",
    "\n",
    "data2 = np.array(['Bob', 'John', 'Bob'])\n",
    "data2.dtype\n",
    "data2 == 'Bob'\n",
    "data == 1\n",
    "data[data > 3]\n",
    "print(\"......\")\n",
    "data3 = np.array([1,2,3,4,5,6,7,8,9])\n",
    "print(data3.shape)\n",
    "print(data3.ndim)\n",
    "print(data3.mean())\n",
    "print(data3.max())\n",
    "print(data3.min())\n",
    "print(data3.sum())\n",
    "data4 = np.array([[1,2,3],[4,5,6],[7,8,9]])\n",
    "print(data4.shape)\n",
    "print(data4.ndim)\n",
    "print(data4.mean())\n",
    "print(data4.max())\n",
    "print(data4.min())\n",
    "print(data4.sum())\n",
    "data4[0].mean()"
   ]
  }
 ],
 "metadata": {
  "kernelspec": {
   "display_name": "Python 3",
   "language": "python",
   "name": "python3"
  },
  "language_info": {
   "codemirror_mode": {
    "name": "ipython",
    "version": 3
   },
   "file_extension": ".py",
   "mimetype": "text/x-python",
   "name": "python",
   "nbconvert_exporter": "python",
   "pygments_lexer": "ipython3",
   "version": "3.7.1"
  }
 },
 "nbformat": 4,
 "nbformat_minor": 2
}
