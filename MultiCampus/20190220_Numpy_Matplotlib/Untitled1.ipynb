{
 "cells": [
  {
   "cell_type": "code",
   "execution_count": null,
   "metadata": {},
   "outputs": [],
   "source": [
    "#두수를 입력뱓아서 사칙 연산을 수행할 수 있는 계산기를 구현하시오.\n",
    "################1. 클래스 선언 ################\n",
    "class  MyCalculation :\n",
    "    #멤버 변수\n",
    "    num1=0\n",
    "    num2=0\n",
    "    sel=0\n",
    "    #멤버 메소드\n",
    "    def add(self) :\n",
    "        return (self.num1) + (self.num2) \n",
    "    def sub(self) :\n",
    "        return (self.num1) - (self.num2)\n",
    "    def mul(self) :\n",
    "        return (self.num1) * (self.num2) \n",
    "    def div(self) :\n",
    "        return (self.num1) / (self.num2)\n",
    "    \n",
    "    def cal(self):\n",
    "        if self.sel == 1 :\n",
    "            return self.add() \n",
    "        elif self.sel == 2 :\n",
    "            return self.sub()\n",
    "        elif self.sel == 3 :\n",
    "            return self.mul() \n",
    "        elif self.sel == 4 :\n",
    "            return self.div()\n",
    "        else :\n",
    "            x = input(\"연산 번호는 1에서 4사이로 입력하세요.\\n종료하려면 y, 다시 하려면 any : \")\n",
    "            if(x=='y'):\n",
    "                return 0\n",
    "\n",
    "################2. Main ################\n",
    "#MyCalculation 객체 생성\n",
    "myCal = MyCalculation()\n",
    "\n",
    "while(1):\n",
    "    #main화면 구성\n",
    "    print( \"\\n[[[[[[[[[[[[[[[[[[ 시 작 ]]]]]]]]]]]]]]]]]]]\")\n",
    "    n1 = input(\"첫번째 수 : \")\n",
    "    n2 = input(\"두번째 수 : \")\n",
    "    print( \"=========================================\")\n",
    "    print( \"1. +\" )\n",
    "    print( \"2. -\" )\n",
    "    print( \"3. *\" )\n",
    "    print( \"4. /\" )\n",
    "    cal = input(\">> 원하는 연산 번호를 입력하세요 : \")\n",
    "    \n",
    "    try:\n",
    "        myCal.num1 = int(n1)\n",
    "        myCal.num2 = int(n2)\n",
    "        myCal.sel = int(cal)\n",
    "        \n",
    "    except: #Error 발생 시\n",
    "        x = input(\"잘못 입력했습니다.\\n종료하려면 y, 다시 하려면 any : \")\n",
    "        if(x=='y'):\n",
    "            break;\n",
    "    else: \n",
    "        res = myCal.cal()\n",
    "        if ( res ) :\n",
    "            print(\">> 결과 :\", res)\n",
    "        else:\n",
    "            print(\"Bye\")\n",
    "            break;"
   ]
  },
  {
   "cell_type": "code",
   "execution_count": 14,
   "metadata": {},
   "outputs": [
    {
     "data": {
      "text/plain": [
       "pandas.core.indexing._iLocIndexer"
      ]
     },
     "execution_count": 14,
     "metadata": {},
     "output_type": "execute_result"
    }
   ],
   "source": [
    "#제공된 seoul.csv를 사용하여 기상 관측 이래 가장 추웠던 날은 몇도 인지 확인하시오.\n",
    "#코드 구현 및 그래프 출력(plot또는 hist)\n",
    "import pandas as pd\n",
    "seoul = pd.read_csv(\"seoul.csv\", encoding='utf-8')\n",
    "type(seoul)\n",
    "seoul\n",
    "type(seoul.iloc(1))\n",
    "#temp={}\n",
    "\n",
    "#for row in seoul:\n",
    "#    print(row[2])\n"
   ]
  }
 ],
 "metadata": {
  "kernelspec": {
   "display_name": "Python 3",
   "language": "python",
   "name": "python3"
  },
  "language_info": {
   "codemirror_mode": {
    "name": "ipython",
    "version": 3
   },
   "file_extension": ".py",
   "mimetype": "text/x-python",
   "name": "python",
   "nbconvert_exporter": "python",
   "pygments_lexer": "ipython3",
   "version": "3.7.1"
  }
 },
 "nbformat": 4,
 "nbformat_minor": 2
}
