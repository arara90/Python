{
 "cells": [
  {
   "cell_type": "code",
   "execution_count": 114,
   "metadata": {},
   "outputs": [
    {
     "name": "stdout",
     "output_type": "stream",
     "text": [
      "sum :  460055.3999999985\n",
      "n :  39304\n",
      "avg :  11.70505292082227\n"
     ]
    }
   ],
   "source": [
    "import csv\n",
    "\n",
    "f = open(\"seoul.csv\", encoding = 'utf-8')\n",
    "data = csv.reader(f)\n",
    "next(data) #다음줄부터 시작할 수 있게 next\n",
    "\n",
    "#변수 초기화\n",
    "li = []\n",
    "n = 0\n",
    "sum = 0\n",
    "\n",
    "#float으로 변환 가능한 항목만 li에 \n",
    "for row in data:\n",
    "    try :\n",
    "            float(row[2])\n",
    "    except:\n",
    "        pass\n",
    "    else:\n",
    "            li.append(float(row[2]))\n",
    "\n",
    "for i in li:\n",
    "    sum += i\n",
    "    \n",
    "print(\"sum : \", sum)\n",
    "print(\"n : \", len(li))\n",
    "print(\"avg : \", sum/len(li))\n",
    "    \n",
    "\n"
   ]
  }
 ],
 "metadata": {
  "kernelspec": {
   "display_name": "Python 3",
   "language": "python",
   "name": "python3"
  },
  "language_info": {
   "codemirror_mode": {
    "name": "ipython",
    "version": 3
   },
   "file_extension": ".py",
   "mimetype": "text/x-python",
   "name": "python",
   "nbconvert_exporter": "python",
   "pygments_lexer": "ipython3",
   "version": "3.7.1"
  }
 },
 "nbformat": 4,
 "nbformat_minor": 2
}
