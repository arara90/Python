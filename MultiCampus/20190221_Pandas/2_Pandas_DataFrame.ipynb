{
 "cells": [
  {
   "cell_type": "code",
   "execution_count": 22,
   "metadata": {},
   "outputs": [
    {
     "name": "stdout",
     "output_type": "stream",
     "text": [
      "   0\n",
      "0  1\n",
      "1  2\n",
      "2  3\n",
      "3  4\n",
      "         name  qty\n",
      "First   item1    1\n",
      "Second  item2    2\n",
      "Third   item3    3\n"
     ]
    }
   ],
   "source": [
    "import pandas as pd\n",
    "import numpy as np\n",
    "data = [1,2,3,4]\n",
    "df = pd.DataFrame(data)\n",
    "print(df)\n",
    "\n",
    "data2 =[['item1',1],['item2',2],['item3',3]]\n",
    "np.array(data2).shape\n",
    "df2 = pd.DataFrame(data2,columns=['name','qty'], index=['First', 'Second', 'Third'] )\n",
    "print(df2)\n",
    "\n",
    "#print(type(range(1,10))\n",
    "\n"
   ]
  },
  {
   "cell_type": "code",
   "execution_count": null,
   "metadata": {},
   "outputs": [],
   "source": [
    "\n"
   ]
  }
 ],
 "metadata": {
  "kernelspec": {
   "display_name": "Python 3",
   "language": "python",
   "name": "python3"
  },
  "language_info": {
   "codemirror_mode": {
    "name": "ipython",
    "version": 3
   },
   "file_extension": ".py",
   "mimetype": "text/x-python",
   "name": "python",
   "nbconvert_exporter": "python",
   "pygments_lexer": "ipython3",
   "version": "3.7.1"
  }
 },
 "nbformat": 4,
 "nbformat_minor": 2
}
