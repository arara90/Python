{
 "cells": [
  {
   "cell_type": "code",
   "execution_count": 22,
   "metadata": {},
   "outputs": [
    {
     "ename": "SyntaxError",
     "evalue": "invalid syntax (<ipython-input-22-2f0e15648470>, line 17)",
     "output_type": "error",
     "traceback": [
      "\u001b[1;36m  File \u001b[1;32m\"<ipython-input-22-2f0e15648470>\"\u001b[1;36m, line \u001b[1;32m17\u001b[0m\n\u001b[1;33m    d1 = pd.DataFrame([[1,2,3],[4,5,6], columns = ['one','two','three'], index = ['no1','no2'])\u001b[0m\n\u001b[1;37m                                                ^\u001b[0m\n\u001b[1;31mSyntaxError\u001b[0m\u001b[1;31m:\u001b[0m invalid syntax\n"
     ]
    }
   ],
   "source": [
    "import pandas as pd\n",
    "import numpy as np\n",
    "\n",
    "d = {'one':pd.Series([1,2,3], index = ['a','b','c'])\n",
    "     , 'two' : pd.Series([1,2,3,4], index=['a','b','c','d'])\n",
    "    }\n",
    "\n",
    "d\n",
    "\n",
    "print('###########')\n",
    "\n",
    "df2 = pd.Series(d)\n",
    "df2['three'] =  pd.Series([10,20,30], index = ['a','b','c'] )\n",
    "df2\n",
    "\n",
    "\n",
    "d1 = pd.DataFrame([[1,2,3],[4,5,6], columns = ['one','two','three'], index = ['no1','no2'])\n",
    "                   \n",
    "#d1['four'] = d1['one']\n",
    "#del d1['four']\n",
    "    \n",
    "    \n",
    "\n"
   ]
  }
 ],
 "metadata": {
  "kernelspec": {
   "display_name": "Python 3",
   "language": "python",
   "name": "python3"
  },
  "language_info": {
   "codemirror_mode": {
    "name": "ipython",
    "version": 3
   },
   "file_extension": ".py",
   "mimetype": "text/x-python",
   "name": "python",
   "nbconvert_exporter": "python",
   "pygments_lexer": "ipython3",
   "version": "3.7.1"
  }
 },
 "nbformat": 4,
 "nbformat_minor": 2
}
