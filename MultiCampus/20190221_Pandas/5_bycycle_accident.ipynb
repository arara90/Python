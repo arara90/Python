{
 "cells": [
  {
   "cell_type": "code",
   "execution_count": 179,
   "metadata": {
    "scrolled": true
   },
   "outputs": [
    {
     "name": "stdout",
     "output_type": "stream",
     "text": [
      "관할경찰서\n",
      "강원      55\n",
      "경기    1162\n",
      "경상     472\n",
      "광주     104\n",
      "대구    1033\n",
      "대전     162\n",
      "부산     197\n",
      "서울    2312\n",
      "울산     128\n",
      "인천     106\n",
      "전라     148\n",
      "충청     186\n",
      "Name: 합계, dtype: int64\n"
     ]
    },
    {
     "name": "stderr",
     "output_type": "stream",
     "text": [
      "C:\\ProgramData\\Anaconda3\\lib\\site-packages\\ipykernel_launcher.py:17: SettingWithCopyWarning: \n",
      "A value is trying to be set on a copy of a slice from a DataFrame.\n",
      "Try using .loc[row_indexer,col_indexer] = value instead\n",
      "\n",
      "See the caveats in the documentation: http://pandas.pydata.org/pandas-docs/stable/indexing.html#indexing-view-versus-copy\n",
      "C:\\ProgramData\\Anaconda3\\lib\\site-packages\\ipykernel_launcher.py:18: SettingWithCopyWarning: \n",
      "A value is trying to be set on a copy of a slice from a DataFrame.\n",
      "Try using .loc[row_indexer,col_indexer] = value instead\n",
      "\n",
      "See the caveats in the documentation: http://pandas.pydata.org/pandas-docs/stable/indexing.html#indexing-view-versus-copy\n",
      "C:\\ProgramData\\Anaconda3\\lib\\site-packages\\ipykernel_launcher.py:23: SettingWithCopyWarning: \n",
      "A value is trying to be set on a copy of a slice from a DataFrame.\n",
      "Try using .loc[row_indexer,col_indexer] = value instead\n",
      "\n",
      "See the caveats in the documentation: http://pandas.pydata.org/pandas-docs/stable/indexing.html#indexing-view-versus-copy\n"
     ]
    },
    {
     "data": {
      "text/plain": [
       "<matplotlib.axes._subplots.AxesSubplot at 0x1e12c5c7f60>"
      ]
     },
     "execution_count": 179,
     "metadata": {},
     "output_type": "execute_result"
    },
    {
     "data": {
      "image/png": "[encoded data removed]",
      "text/plain": [
       "<Figure size 432x288 with 1 Axes>"
      ]
     },
     "metadata": {
      "needs_background": "light"
     },
     "output_type": "display_data"
    }
   ],
   "source": [
    "import pandas as pd\n",
    "import numpy as np\n",
    "\n",
    "#import matplotlib.pyplot as plt\n",
    "\n",
    "od = pd.read_csv(\"bycycle.csv\", encoding = \"EUC-KR\")\n",
    "\n",
    "#교통사고정보를 이용하여 각각의 시도별 발생건수, 사상자수, 사망자수, 중상사주, 경상자수, 부상신고자수 합계를 구하고\n",
    "#그래프로 출력하시오. (pandas or numpy사용)\n",
    "# 관할 경잘서 기준 \n",
    "# 시도별\n",
    "\n",
    "m1 = od[['스팟코드', '관할경찰서','발생건수','사상자수','중상자수','경상자수','부상신고자수']]\n",
    "#m1['스팟코드'] = str(m1.loc[0: , '스팟코드'])\n",
    "\n",
    "#1.시도 나누기\n",
    "m1[\"스팟코드\"] = m1[\"스팟코드\"].apply(lambda e: int(e/10000))\n",
    "m1[\"관할경찰서\"] = m1[\"관할경찰서\"].apply(lambda e: e[0:2])\n",
    "#m1[\"관할경찰서2\"] = m1[\"관할경찰서\"].apply(lambda e: e.split()[1] )\n",
    "#print(m1)\n",
    "\n",
    "##2. 행별 합계구하기\n",
    "m1[\"합계\"] = m1.loc[0:, ['발생건수','사상자수','중상자수','경상자수','부상신고자수']].sum(axis = 1)\n",
    "\n",
    "##3. 원하는 값만 뽑기\n",
    "m2 = m1[['스팟코드', '관할경찰서','합계']]\n",
    "##print(m2)\n",
    "\n",
    "##4. 합계\n",
    "res = m2.groupby('관할경찰서')['합계'].sum()\n",
    "print(res)\n",
    "\n",
    "\n",
    "##print(res['관할경찰서'])\n",
    "res.plot.bar()\n",
    "#res.plot.line()\n"
   ]
  }
 ],
 "metadata": {
  "kernelspec": {
   "display_name": "Python 3",
   "language": "python",
   "name": "python3"
  },
  "language_info": {
   "codemirror_mode": {
    "name": "ipython",
    "version": 3
   },
   "file_extension": ".py",
   "mimetype": "text/x-python",
   "name": "python",
   "nbconvert_exporter": "python",
   "pygments_lexer": "ipython3",
   "version": "3.7.1"
  }
 },
 "nbformat": 4,
 "nbformat_minor": 2
}
