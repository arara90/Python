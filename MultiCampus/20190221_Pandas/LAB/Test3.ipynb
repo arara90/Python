{
 "cells": [
  {
   "cell_type": "code",
   "execution_count": 16,
   "metadata": {},
   "outputs": [
    {
     "data": {
      "text/plain": [
       "1.25"
      ]
     },
     "execution_count": 16,
     "metadata": {},
     "output_type": "execute_result"
    }
   ],
   "source": [
    "import numpy as np\n",
    "a = np.array([[3,7,5],[8,4,3],[2,4,9]])\n",
    "# [3,7,5]\n",
    "# [8,4,3]\n",
    "# [2,4,9]\n",
    "np.amin(a,0)\n",
    "np.amin(a,1)\n",
    "\n",
    "np.max(a)\n",
    "np.amax(a, axis=0)\n",
    "np.amax(a, axis=1)\n",
    "\n",
    "np.median(a)\n",
    "np.median(a, axis=0)\n",
    "np.median(a, axis=1)\n",
    "\n",
    "np.mean(a)\n",
    "np.mean(a, axis=0)\n",
    "np.mean(a, axis=1)\n",
    "\n",
    "a1 = np.array([1,2,3,4])\n",
    "np.std(a1)\n",
    "np.var(a1)"
   ]
  },
  {
   "cell_type": "code",
   "execution_count": null,
   "metadata": {},
   "outputs": [],
   "source": []
  }
 ],
 "metadata": {
  "kernelspec": {
   "display_name": "Python 3",
   "language": "python",
   "name": "python3"
  },
  "language_info": {
   "codemirror_mode": {
    "name": "ipython",
    "version": 3
   },
   "file_extension": ".py",
   "mimetype": "text/x-python",
   "name": "python",
   "nbconvert_exporter": "python",
   "pygments_lexer": "ipython3",
   "version": "3.7.1"
  }
 },
 "nbformat": 4,
 "nbformat_minor": 2
}
