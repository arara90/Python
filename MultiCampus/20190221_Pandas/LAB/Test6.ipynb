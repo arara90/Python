{
 "cells": [
  {
   "cell_type": "code",
   "execution_count": 27,
   "metadata": {},
   "outputs": [
    {
     "name": "stdout",
     "output_type": "stream",
     "text": [
      "0    홍길동\n",
      "1    이순신\n",
      "2    강감찬\n",
      "dtype: object\n",
      "a    100\n",
      "c    300\n",
      "b    200\n",
      "dtype: int64\n",
      "100    1\n",
      "101    2\n",
      "102    3\n",
      "103    4\n",
      "dtype: int64\n"
     ]
    }
   ],
   "source": [
    "import pandas as pd\n",
    "import numpy as np\n",
    "s = pd.Series()\n",
    "#print(s)\n",
    "\n",
    "data = np.array([1,2,3,4])\n",
    "s2 = pd.Series(data)\n",
    "#print(s2)\n",
    "\n",
    "data2 = np.array(['홍길동', '이순신', '강감찬'])\n",
    "#label2 = [100,200,300]\n",
    "#s3 = pd.Series(data2, label2)\n",
    "s3 = pd.Series(data2, index=[0,1,2])\n",
    "print(s3)\n",
    "# pandas.Series(data, index, dtype, copy)\n",
    "\n",
    "data4 = {'a' : 100, 'b' : 200, 'c' : 300}\n",
    "s4 = pd.Series(data4, index=['a','c','b'])\n",
    "print(s4)\n",
    "\n",
    "data5 = [1,2,3,4]\n",
    "s5 = pd.Series(data5, index = [100,101,102,103])\n",
    "print(s5)"
   ]
  },
  {
   "cell_type": "code",
   "execution_count": 31,
   "metadata": {},
   "outputs": [
    {
     "name": "stdout",
     "output_type": "stream",
     "text": [
      "2\n"
     ]
    },
    {
     "data": {
      "text/plain": [
       "a    1\n",
       "c    3\n",
       "d    4\n",
       "dtype: int64"
      ]
     },
     "execution_count": 31,
     "metadata": {},
     "output_type": "execute_result"
    }
   ],
   "source": [
    "data6 = pd.Series([1,2,3,4], index=['a','b','c','d'])\n",
    "#print(data6[0])\n",
    "#print(data6['a'])\n",
    "#print(data6[1:])\n",
    "#print(data6[-3:])\n",
    "print(data6['b'])\n",
    "data6[['a','c','d']]"
   ]
  },
  {
   "cell_type": "code",
   "execution_count": null,
   "metadata": {},
   "outputs": [],
   "source": [
    "# pandas.Series(data, index, dtype, copy)\n",
    "# pandas.DataFrame(data, index, columns, dtype, copy)\n",
    "# lists, dict, Series, Numpy ndarray, ...ETC -> DataFrame"
   ]
  },
  {
   "cell_type": "code",
   "execution_count": 40,
   "metadata": {},
   "outputs": [
    {
     "data": {
      "text/html": [
       "<div>\n",
       "<style scoped>\n",
       "    .dataframe tbody tr th:only-of-type {\n",
       "        vertical-align: middle;\n",
       "    }\n",
       "\n",
       "    .dataframe tbody tr th {\n",
       "        vertical-align: top;\n",
       "    }\n",
       "\n",
       "    .dataframe thead th {\n",
       "        text-align: right;\n",
       "    }\n",
       "</style>\n",
       "<table border=\"1\" class=\"dataframe\">\n",
       "  <thead>\n",
       "    <tr style=\"text-align: right;\">\n",
       "      <th></th>\n",
       "      <th>Name</th>\n",
       "      <th>Qty</th>\n",
       "    </tr>\n",
       "  </thead>\n",
       "  <tbody>\n",
       "    <tr>\n",
       "      <th>First</th>\n",
       "      <td>item1</td>\n",
       "      <td>1</td>\n",
       "    </tr>\n",
       "    <tr>\n",
       "      <th>Second</th>\n",
       "      <td>item2</td>\n",
       "      <td>2</td>\n",
       "    </tr>\n",
       "    <tr>\n",
       "      <th>Third</th>\n",
       "      <td>item3</td>\n",
       "      <td>3</td>\n",
       "    </tr>\n",
       "  </tbody>\n",
       "</table>\n",
       "</div>"
      ],
      "text/plain": [
       "         Name  Qty\n",
       "First   item1    1\n",
       "Second  item2    2\n",
       "Third   item3    3"
      ]
     },
     "execution_count": 40,
     "metadata": {},
     "output_type": "execute_result"
    }
   ],
   "source": [
    "import pandas as pd\n",
    "data = [1,2,3,4]\n",
    "df = pd.DataFrame(data)\n",
    "#print(df)\n",
    "data2 = [['item1',1],['item2',2],['item3',3]]\n",
    "np.array(data2).shape\n",
    "df2 = pd.DataFrame(data2,index=['First','Second','Third'],\n",
    "                   columns=['Name','Qty'])\n",
    "#df2"
   ]
  },
  {
   "cell_type": "code",
   "execution_count": 135,
   "metadata": {},
   "outputs": [
    {
     "data": {
      "text/html": [
       "<div>\n",
       "<style scoped>\n",
       "    .dataframe tbody tr th:only-of-type {\n",
       "        vertical-align: middle;\n",
       "    }\n",
       "\n",
       "    .dataframe tbody tr th {\n",
       "        vertical-align: top;\n",
       "    }\n",
       "\n",
       "    .dataframe thead th {\n",
       "        text-align: right;\n",
       "    }\n",
       "</style>\n",
       "<table border=\"1\" class=\"dataframe\">\n",
       "  <thead>\n",
       "    <tr style=\"text-align: right;\">\n",
       "      <th></th>\n",
       "      <th>one</th>\n",
       "      <th>two</th>\n",
       "      <th>three</th>\n",
       "    </tr>\n",
       "  </thead>\n",
       "  <tbody>\n",
       "    <tr>\n",
       "      <th>no1</th>\n",
       "      <td>1</td>\n",
       "      <td>2</td>\n",
       "      <td>3</td>\n",
       "    </tr>\n",
       "    <tr>\n",
       "      <th>no2</th>\n",
       "      <td>4</td>\n",
       "      <td>5</td>\n",
       "      <td>6</td>\n",
       "    </tr>\n",
       "  </tbody>\n",
       "</table>\n",
       "</div>"
      ],
      "text/plain": [
       "     one  two  three\n",
       "no1    1    2      3\n",
       "no2    4    5      6"
      ]
     },
     "execution_count": 135,
     "metadata": {},
     "output_type": "execute_result"
    }
   ],
   "source": [
    "import pandas as pd\n",
    "df = pd.read_csv(\"seoul.csv\", encoding=\"utf-8\")\n",
    "#df.head()\n",
    "#df.tail()\n",
    "#df.head()\n",
    "#df['날짜']\n",
    "#df['지점']\n",
    "#df.columns\n",
    "#df.columns[0]\n",
    "#df.columns[0:2]\n",
    "#df.columns[4]\n",
    "df.head()\n",
    "df.iloc[0:5]\n",
    "df.iloc[1:2]\n",
    "#df['날짜']\n",
    "#print(df.iloc[1:3])\n",
    "#print(df[1:2])\n",
    "#df['날짜']\n",
    "df.iloc[0:5, 0:3]\n",
    "#df.iloc[0,0]\n",
    "df.iloc[[0,2,4], 0:3]\n",
    "df[['날짜','지점']] # Column\n",
    "#df[0:1] # Row\n",
    "\n",
    "# df[0:1] rows slicing\n",
    "# df['날짜'] column select\n",
    "\n",
    "# integer indexing or slicing\n",
    "# df.iloc[0,0] # row, column\n",
    "# df.iloc[0:1, 1:2] # row, column\n",
    "\n",
    "# index, name indexing or slicing\n",
    "# df.loc[2,'날짜'] # row, column\n",
    "# df.loc[[0,2,4], ['날짜','지점']]\n",
    "#df.columns\n",
    "#df.columns[0]\n",
    "#df.columns[0:1]\n",
    "\n",
    "df.head()\n",
    "#df['최고기온(℃)']\n",
    "#df2 = df['날짜'] + df['지점']\n",
    "\n",
    "d = {'one' : pd.Series([1,2,3], index=['a','b','c']),\n",
    "     'two' : pd.Series([1,2,3,4], index=['a', 'b','c','d'])}\n",
    "df2 = pd.Series(d)\n",
    "df2['three'] = pd.Series([10,20,30], index=['a','b','c'])\n",
    "df2\n",
    "\n",
    "d1 = pd.DataFrame([[1,2,3],[4,5,6]], \n",
    "                  columns=['one','two','three'],\n",
    "                 index=['no1','no2'])\n",
    "\n",
    "d1['four'] = d1['one'] # add column\n",
    "del d1['four'] # delete column\n"
   ]
  },
  {
   "cell_type": "code",
   "execution_count": null,
   "metadata": {},
   "outputs": [],
   "source": []
  },
  {
   "cell_type": "code",
   "execution_count": null,
   "metadata": {},
   "outputs": [],
   "source": []
  },
  {
   "cell_type": "code",
   "execution_count": null,
   "metadata": {},
   "outputs": [],
   "source": []
  },
  {
   "cell_type": "code",
   "execution_count": null,
   "metadata": {},
   "outputs": [],
   "source": []
  }
 ],
 "metadata": {
  "kernelspec": {
   "display_name": "Python 3",
   "language": "python",
   "name": "python3"
  },
  "language_info": {
   "codemirror_mode": {
    "name": "ipython",
    "version": 3
   },
   "file_extension": ".py",
   "mimetype": "text/x-python",
   "name": "python",
   "nbconvert_exporter": "python",
   "pygments_lexer": "ipython3",
   "version": "3.7.1"
  }
 },
 "nbformat": 4,
 "nbformat_minor": 2
}
