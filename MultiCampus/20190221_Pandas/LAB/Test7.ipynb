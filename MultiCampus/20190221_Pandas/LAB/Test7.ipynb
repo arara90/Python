{
 "cells": [
  {
   "cell_type": "code",
   "execution_count": 18,
   "metadata": {
    "scrolled": true
   },
   "outputs": [],
   "source": [
    "import pandas as pd\n",
    "#df = pd.read_csv(\"공공데이터포털 데이터\", encoding='EUC-KR')\n",
    "#df.head()\n",
    "\n",
    "# https://www.data.go.kr/ => 교통사고 정보\n",
    "\n",
    "# 교통사고정보를 이용하여 각각의 시도별 범죄 발생건수,사상자수,\n",
    "# 사망자수,중상자수,경상자수,부상신고자수 합계를 구하고 \n",
    "# 그래프로 출력하시오.(pandas or numpy사용)\n",
    "# => 관할경찰서(기준)\n",
    "# => 시도별(서울특별시,....)"
   ]
  }
 ],
 "metadata": {
  "kernelspec": {
   "display_name": "Python 3",
   "language": "python",
   "name": "python3"
  },
  "language_info": {
   "codemirror_mode": {
    "name": "ipython",
    "version": 3
   },
   "file_extension": ".py",
   "mimetype": "text/x-python",
   "name": "python",
   "nbconvert_exporter": "python",
   "pygments_lexer": "ipython3",
   "version": "3.7.1"
  }
 },
 "nbformat": 4,
 "nbformat_minor": 2
}
