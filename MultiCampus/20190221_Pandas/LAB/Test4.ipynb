{
 "cells": [
  {
   "cell_type": "code",
   "execution_count": 17,
   "metadata": {},
   "outputs": [
    {
     "name": "stdout",
     "output_type": "stream",
     "text": [
      "0    홍길동\n",
      "1    이순신\n",
      "2    강감찬\n",
      "dtype: object\n",
      "a    100\n",
      "c    300\n",
      "b    200\n",
      "dtype: int64\n",
      "100    1\n",
      "101    2\n",
      "102    3\n",
      "103    4\n",
      "dtype: int64\n"
     ]
    }
   ],
   "source": [
    "import pandas as pd\n",
    "import numpy as np\n",
    "s = pd.Series()\n",
    "#print(s)\n",
    "\n",
    "data = np.array([1,2,3,4])\n",
    "s2 = pd.Series(data)\n",
    "#print(s2)\n",
    "\n",
    "data2 = np.array(['홍길동', '이순신', '강감찬'])\n",
    "#label2 = [100,200,300]\n",
    "#s3 = pd.Series(data2, label2)\n",
    "s3 = pd.Series(data2, index=[0,1,2])\n",
    "print(s3)\n",
    "# pandas.Series(data, index, dtype, copy)\n",
    "\n",
    "data4 = {'a' : 100, 'b' : 200, 'c' : 300}\n",
    "s4 = pd.Series(data4, index=['a','c','b'])\n",
    "print(s4)\n",
    "\n",
    "data3 = [1,2,3,4]\n",
    "s5 = pd.Series(data3, index = [100,101,102,103])\n",
    "print(s5)\n"
   ]
  }
 ],
 "metadata": {
  "kernelspec": {
   "display_name": "Python 3",
   "language": "python",
   "name": "python3"
  },
  "language_info": {
   "codemirror_mode": {
    "name": "ipython",
    "version": 3
   },
   "file_extension": ".py",
   "mimetype": "text/x-python",
   "name": "python",
   "nbconvert_exporter": "python",
   "pygments_lexer": "ipython3",
   "version": "3.7.1"
  }
 },
 "nbformat": 4,
 "nbformat_minor": 2
}
