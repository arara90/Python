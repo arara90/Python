{
 "cells": [
  {
   "cell_type": "code",
   "execution_count": 25,
   "metadata": {},
   "outputs": [
    {
     "name": "stdout",
     "output_type": "stream",
     "text": [
      "###########\n"
     ]
    }
   ],
   "source": [
    "import pandas as pd\n",
    "import numpy as np\n",
    "\n",
    "d = {'one':pd.Series([1,2,3], index = ['a','b','c'])\n",
    "     , 'two' : pd.Series([1,2,3,4], index=['a','b','c','d'])\n",
    "    }\n",
    "\n",
    "d\n",
    "\n",
    "print('###########')\n",
    "\n",
    "df2 = pd.Series(d)\n",
    "df2['three'] =  pd.Series([10,20,30], index = ['a','b','c'] )\n",
    "df2\n",
    "\n",
    "\n",
    "d1 = pd.DataFrame([[1,2,3],[4,5,6]], columns = ['one','two','three'], index = ['no1','no2'])\n",
    "                   \n",
    "#d1['four'] = d1['one']\n",
    "#del d1['four']\n",
    "    \n",
    "    \n",
    "\n"
   ]
  }
 ],
 "metadata": {
  "kernelspec": {
   "display_name": "Python 3",
   "language": "python",
   "name": "python3"
  },
  "language_info": {
   "codemirror_mode": {
    "name": "ipython",
    "version": 3
   },
   "file_extension": ".py",
   "mimetype": "text/x-python",
   "name": "python",
   "nbconvert_exporter": "python",
   "pygments_lexer": "ipython3",
   "version": "3.7.1"
  }
 },
 "nbformat": 4,
 "nbformat_minor": 2
}
