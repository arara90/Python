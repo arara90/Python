{
 "cells": [
  {
   "cell_type": "code",
   "execution_count": 16,
   "metadata": {},
   "outputs": [
    {
     "name": "stdout",
     "output_type": "stream",
     "text": [
      "[345786 409814 442943 439700 440872 489401 476061 473580 448183 468858\n",
      " 496041 449954 436496 474366 493910 495262 559804 639416 619744 639432\n",
      " 670955 685001 707489 713246 709736 724578 702166 640303 631234 626259\n",
      " 618127 628300 653497 662636 749385 823495 841840 838693 829177 723499\n",
      " 780568 763958 791817 859972 895428 896361 944179 919109 924665 926695\n",
      " 861873 815855 850770 832633 792265 879476 912277 920380 849219 775456\n",
      " 767925 692708 716331 608431 524848 578745 421321 448083 451830 447042\n",
      " 449247 356256 316490 335832 335307 408443 332373 290050 294405 260703\n",
      " 236440 216390 200619 172333 142364 126316  99951  87556  75834  61796\n",
      "  49612  34909  28262  20684  19769  14616   9619   6922   4832   3305\n",
      "  17850]\n"
     ]
    }
   ],
   "source": [
    "import numpy as np\n",
    "data = np.loadtxt(fname = \"village_population.csv\"\n",
    "                  , encoding=\"utf-8\", dtype= np.str\n",
    "                  , delimiter=\",\", usecols=range(0,104)\n",
    "                 )\n",
    "\n",
    "sumrow = np.zeros(101).astype(np.int)\n",
    "\n",
    "for i in data:\n",
    "    if '00000000' in i[0]:\n",
    "        sumrow = sumrow + i[3:104].astype(np.int)\n",
    "        \n",
    "print(sumrow)\n",
    "        "
   ]
  }
 ],
 "metadata": {
  "kernelspec": {
   "display_name": "Python 3",
   "language": "python",
   "name": "python3"
  },
  "language_info": {
   "codemirror_mode": {
    "name": "ipython",
    "version": 3
   },
   "file_extension": ".py",
   "mimetype": "text/x-python",
   "name": "python",
   "nbconvert_exporter": "python",
   "pygments_lexer": "ipython3",
   "version": "3.7.1"
  }
 },
 "nbformat": 4,
 "nbformat_minor": 2
}
