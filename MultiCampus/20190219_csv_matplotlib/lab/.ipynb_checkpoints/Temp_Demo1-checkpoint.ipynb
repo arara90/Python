{
 "cells": [
  {
   "cell_type": "code",
   "execution_count": 1,
   "metadata": {},
   "outputs": [
    {
     "name": "stdout",
     "output_type": "stream",
     "text": [
      "38.4 1994-07-24\n"
     ]
    }
   ],
   "source": [
    "import csv\n",
    "f = open('seoul.csv', encoding=\"utf-8\")\n",
    "data = csv.reader(f)\n",
    "\n",
    "next(data)\n",
    "max_temp = 0\n",
    "max_temp_date = ''\n",
    "\n",
    "cnt = 0\n",
    "\n",
    "for row in data:\n",
    "    if row[-1] != '':\n",
    "        if(int(row[0].split(\"-\")[0]) < 1995 and float(row[-1]) > max_temp):\n",
    "           max_temp = float(row[-1])\n",
    "           max_temp_date = row[0]\n",
    "\n",
    "print(max_temp, max_temp_date)\n",
    "#test_value = \"1907-11-01\"\n",
    "#print(test_value.split(\"-\")[0])\n",
    "#int(test_value.split(\"-\")[0]) < 1995 \n",
    "\n",
    "\n"
   ]
  }
 ],
 "metadata": {
  "kernelspec": {
   "display_name": "Python 3",
   "language": "python",
   "name": "python3"
  },
  "language_info": {
   "codemirror_mode": {
    "name": "ipython",
    "version": 3
   },
   "file_extension": ".py",
   "mimetype": "text/x-python",
   "name": "python",
   "nbconvert_exporter": "python",
   "pygments_lexer": "ipython3",
   "version": "3.7.1"
  }
 },
 "nbformat": 4,
 "nbformat_minor": 2
}
