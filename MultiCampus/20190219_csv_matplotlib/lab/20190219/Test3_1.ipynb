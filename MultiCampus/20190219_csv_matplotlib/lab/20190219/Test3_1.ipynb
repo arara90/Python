{
 "cells": [
  {
   "cell_type": "code",
   "execution_count": 87,
   "metadata": {},
   "outputs": [],
   "source": [
    "import csv\n",
    "f = open('seoul.csv', encoding=\"utf-8\")\n",
    "data = csv.reader(f)\n",
    "# int, float -> int, float\n",
    "# int(), float()\n",
    "'''\n",
    "temp = []\n",
    "for row in data:\n",
    "    temp.append(row[2])\n",
    "\n",
    "temp2 = 0\n",
    "for row in temp[1:]:\n",
    "    if row == '': continue\n",
    "    temp2 += float(row)\n",
    "\n",
    "print(temp2)\n",
    "'''\n",
    "# 1995년 이전의 최고 기온을 알아보기 위한 코드를 작성하시오.\n",
    "for row in data:\n",
    "    #print(row)\n",
    "    pass\n",
    "\n"
   ]
  }
 ],
 "metadata": {
  "kernelspec": {
   "display_name": "Python 3",
   "language": "python",
   "name": "python3"
  },
  "language_info": {
   "codemirror_mode": {
    "name": "ipython",
    "version": 3
   },
   "file_extension": ".py",
   "mimetype": "text/x-python",
   "name": "python",
   "nbconvert_exporter": "python",
   "pygments_lexer": "ipython3",
   "version": "3.7.1"
  }
 },
 "nbformat": 4,
 "nbformat_minor": 2
}
