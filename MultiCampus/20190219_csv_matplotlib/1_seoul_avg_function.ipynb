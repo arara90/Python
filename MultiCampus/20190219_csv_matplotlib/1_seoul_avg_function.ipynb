{
 "cells": [
  {
   "cell_type": "code",
   "execution_count": 27,
   "metadata": {},
   "outputs": [
    {
     "name": "stdout",
     "output_type": "stream",
     "text": [
      "sum :  460055.3999999985\n",
      "n :  39304\n",
      "e :  756\n",
      "평균 11.70505292082227\n"
     ]
    }
   ],
   "source": [
    "import csv\n",
    "\n",
    "def is_float(input):\n",
    "  try:\n",
    "    num = float(input)\n",
    "  except ValueError:\n",
    "    return False\n",
    "  return True\n",
    "\n",
    "f = open(\"seoul.csv\", encoding = 'utf-8')\n",
    "data = csv.reader(f)\n",
    "\n",
    "li = []\n",
    "sum = 0\n",
    "n = 0\n",
    "e = 0\n",
    "\n",
    "for row in data:\n",
    "    li.append(row[2])\n",
    "    \n",
    "for i in li[1:]:\n",
    "    if is_float(i):\n",
    "        sum = sum + float(i)\n",
    "        n = n + 1\n",
    "    else : \n",
    "        e = e + 1 \n",
    "        \n",
    "print(\"sum : \", sum)\n",
    "print(\"n : \", n)\n",
    "print(\"e : \", e)\n",
    "print(\"평균\" , sum / n )\n",
    "\n",
    "\n",
    "    \n"
   ]
  }
 ],
 "metadata": {
  "kernelspec": {
   "display_name": "Python 3",
   "language": "python",
   "name": "python3"
  },
  "language_info": {
   "codemirror_mode": {
    "name": "ipython",
    "version": 3
   },
   "file_extension": ".py",
   "mimetype": "text/x-python",
   "name": "python",
   "nbconvert_exporter": "python",
   "pygments_lexer": "ipython3",
   "version": "3.7.1"
  }
 },
 "nbformat": 4,
 "nbformat_minor": 2
}
